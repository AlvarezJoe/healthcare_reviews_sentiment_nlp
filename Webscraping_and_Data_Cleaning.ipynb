{
  "nbformat": 4,
  "nbformat_minor": 0,
  "metadata": {
    "colab": {
      "provenance": []
    },
    "kernelspec": {
      "name": "python3",
      "display_name": "Python 3"
    },
    "language_info": {
      "name": "python"
    }
  },
  "cells": [
    {
      "cell_type": "markdown",
      "source": [
        "# <center>MDC Capstone\n",
        "## <center>Webscraping and Data Cleaning\n",
        "### <center>By Joemichael Alvarez"
      ],
      "metadata": {
        "id": "FRDqBa18OlZx"
      }
    },
    {
      "cell_type": "markdown",
      "source": [
        "This is a two part capstone project that incorporates webscraping and sentiment analysis. As an added bonus the use of Sk-LLM will be added to compare it to our original reviews.\n",
        "\n",
        "_You can find the sentiment analysis portion of this project [here](https://colab.research.google.com/drive/1iGyegl0h4RyzMYWqLvkAmXjLU4bqC77T?usp=sharing)._"
      ],
      "metadata": {
        "id": "XnKnQJvgBeZ-"
      }
    },
    {
      "cell_type": "markdown",
      "source": [
        "#Installations"
      ],
      "metadata": {
        "id": "3LlJtAGCOlQ_"
      }
    },
    {
      "cell_type": "code",
      "execution_count": null,
      "metadata": {
        "colab": {
          "base_uri": "https://localhost:8080/"
        },
        "id": "anBrrtM9dm9D",
        "outputId": "c6980282-ee50-4a6f-e008-131932a8d003"
      },
      "outputs": [
        {
          "output_type": "stream",
          "name": "stdout",
          "text": [
            "Looking in indexes: https://pypi.org/simple, https://us-python.pkg.dev/colab-wheels/public/simple/\n",
            "Requirement already satisfied: requests in /usr/local/lib/python3.10/dist-packages (2.27.1)\n",
            "Requirement already satisfied: beautifulsoup4 in /usr/local/lib/python3.10/dist-packages (4.11.2)\n",
            "Requirement already satisfied: urllib3<1.27,>=1.21.1 in /usr/local/lib/python3.10/dist-packages (from requests) (1.26.15)\n",
            "Requirement already satisfied: certifi>=2017.4.17 in /usr/local/lib/python3.10/dist-packages (from requests) (2022.12.7)\n",
            "Requirement already satisfied: charset-normalizer~=2.0.0 in /usr/local/lib/python3.10/dist-packages (from requests) (2.0.12)\n",
            "Requirement already satisfied: idna<4,>=2.5 in /usr/local/lib/python3.10/dist-packages (from requests) (3.4)\n",
            "Requirement already satisfied: soupsieve>1.2 in /usr/local/lib/python3.10/dist-packages (from beautifulsoup4) (2.4.1)\n"
          ]
        }
      ],
      "source": [
        "#instillations\n",
        "!pip install requests beautifulsoup4"
      ]
    },
    {
      "cell_type": "markdown",
      "source": [
        "##Libraries"
      ],
      "metadata": {
        "id": "5frtsp0XOqzJ"
      }
    },
    {
      "cell_type": "code",
      "source": [
        "#libraries\n",
        "import pandas as pd\n",
        "import requests\n",
        "from datetime import datetime\n",
        "from bs4 import BeautifulSoup\n",
        "import string\n",
        "from google.colab import files\n",
        "\n",
        "#quality of life\n",
        "pd.set_option('display.max_colwidth', None)\n",
        "pd.set_option('display.max_rows', None)\n",
        "pd.set_option('display.max_columns', None)"
      ],
      "metadata": {
        "id": "yBW5lN-KOseT"
      },
      "execution_count": null,
      "outputs": []
    },
    {
      "cell_type": "code",
      "source": [
        "#requirements.txt\n",
        "!pip freeze > requirements.txt\n",
        "\n",
        "#download txt\n",
        "files.download('requirements.txt')"
      ],
      "metadata": {
        "colab": {
          "base_uri": "https://localhost:8080/",
          "height": 17
        },
        "id": "E18BDgP728uZ",
        "outputId": "31fbd0f5-d810-4a9a-fc1f-9d163faf2312"
      },
      "execution_count": null,
      "outputs": [
        {
          "output_type": "display_data",
          "data": {
            "text/plain": [
              "<IPython.core.display.Javascript object>"
            ],
            "application/javascript": [
              "\n",
              "    async function download(id, filename, size) {\n",
              "      if (!google.colab.kernel.accessAllowed) {\n",
              "        return;\n",
              "      }\n",
              "      const div = document.createElement('div');\n",
              "      const label = document.createElement('label');\n",
              "      label.textContent = `Downloading \"${filename}\": `;\n",
              "      div.appendChild(label);\n",
              "      const progress = document.createElement('progress');\n",
              "      progress.max = size;\n",
              "      div.appendChild(progress);\n",
              "      document.body.appendChild(div);\n",
              "\n",
              "      const buffers = [];\n",
              "      let downloaded = 0;\n",
              "\n",
              "      const channel = await google.colab.kernel.comms.open(id);\n",
              "      // Send a message to notify the kernel that we're ready.\n",
              "      channel.send({})\n",
              "\n",
              "      for await (const message of channel.messages) {\n",
              "        // Send a message to notify the kernel that we're ready.\n",
              "        channel.send({})\n",
              "        if (message.buffers) {\n",
              "          for (const buffer of message.buffers) {\n",
              "            buffers.push(buffer);\n",
              "            downloaded += buffer.byteLength;\n",
              "            progress.value = downloaded;\n",
              "          }\n",
              "        }\n",
              "      }\n",
              "      const blob = new Blob(buffers, {type: 'application/binary'});\n",
              "      const a = document.createElement('a');\n",
              "      a.href = window.URL.createObjectURL(blob);\n",
              "      a.download = filename;\n",
              "      div.appendChild(a);\n",
              "      a.click();\n",
              "      div.remove();\n",
              "    }\n",
              "  "
            ]
          },
          "metadata": {}
        },
        {
          "output_type": "display_data",
          "data": {
            "text/plain": [
              "<IPython.core.display.Javascript object>"
            ],
            "application/javascript": [
              "download(\"download_ac0e777f-a625-44a6-8065-c048d86d66e5\", \"requirements.txt\", 8402)"
            ]
          },
          "metadata": {}
        }
      ]
    },
    {
      "cell_type": "markdown",
      "source": [
        "#Webscraping"
      ],
      "metadata": {
        "id": "eDmsPvw1OuBX"
      }
    },
    {
      "cell_type": "code",
      "source": [
        "#creating of dataframe\n",
        "reviews_df= pd.DataFrame({'CompanyName': [], 'Review': [], 'Date': []})\n",
        "\n",
        "#url with multiple possible companies and parse\n",
        "primary_url = \"https://www.consumeraffairs.com/insurance/health.html#best-rated-all\"\n",
        "primary_response = requests.get(primary_url)\n",
        "primary_soup = BeautifulSoup(primary_response.content, \"html.parser\")\n",
        "\n",
        "#for loop going through company urls in HTML\n",
        "for i in primary_soup.find_all(\"div\", {\"class\": \"brd-card__tit-innr\"}):\n",
        "    link = i.find(\"a\")[\"href\"]\n",
        "    if link[:5] == 'https': #only selects links where reviews are present\n",
        "      #print(link) #verify correct company selection\n",
        "\n",
        "      #refresh url with base review page 1 and parse\n",
        "      url = link+'?page=1#sort=recent&filter=none'\n",
        "      response = requests.get(url)\n",
        "      soup = BeautifulSoup(response.content, 'html.parser')\n",
        "\n",
        "      #find last page for reviews and create a variable\n",
        "      last_page = soup.find_all(\"div\", {'class': 'js-paginator-data'})[0]['data-last-page']#why an index is part of this i'll never know\n",
        "\n",
        "      #for loop using last page as max iteration\n",
        "      for j in range(int(last_page)+1):\n",
        "        #ensure we dont use page 0 since it does not exist then parse\n",
        "        if j != 0:\n",
        "          #print(url.replace('1',str(j))) #verify pages are being shifted through\n",
        "          response = requests.get(url.replace('1',str(j)))\n",
        "          soup = BeautifulSoup(response.content, 'html.parser')\n",
        "          reviews = soup.find_all('div', {'class': 'rvw js-rvw'})\n",
        "\n",
        "          #for loop going through all reviews and putting them in dataframe\n",
        "          for review in reviews:\n",
        "            review_text = review.find('div', {'class': 'rvw-bd'}).text.strip()\n",
        "            review_text = review_text.replace('Original review:', '')\n",
        "            review_text = review_text.replace('Read full review', '')\n",
        "            review_text = review_text.replace('Resolution response: ', '')\n",
        "            review_text = review_text.replace('\\n', '')\n",
        "            date_string = review_text.split(\", \",1)[0]+', '+(review_text.split(\", \",1)[1])[:4]\n",
        "            date_string = date_string.replace('Sept.', 'September'\n",
        "            ).replace('Oct.', 'October'\n",
        "            ).replace('Jan.', 'January'\n",
        "            ).replace('Aug.', 'August'\n",
        "            ).replace('Dec.', 'December'\n",
        "            ).replace('Feb.', 'February'\n",
        "            ).replace('Nov.', 'November')\n",
        "            review_text = review_text.split(\", \",1)[1]\n",
        "            #initally tried a \"try except\" clause but datetime was not happy with that\n",
        "            #opted for the kiss methodology of coding\n",
        "            reviews_df = pd.concat(\n",
        "                [reviews_df, pd.DataFrame(\n",
        "                    {'CompanyName': link[42:-5].strip(), 'Review': [review_text[4:].strip()], 'Date': [datetime.strptime(\n",
        "                        date_string.strip(), '%B %d, %Y')]})], ignore_index = True)"
      ],
      "metadata": {
        "id": "ZUyz9kDihgkj"
      },
      "execution_count": null,
      "outputs": []
    },
    {
      "cell_type": "markdown",
      "source": [
        "Let's make sure everything looks good."
      ],
      "metadata": {
        "id": "zrybhMk03GwV"
      }
    },
    {
      "cell_type": "code",
      "source": [
        "#columns and shape\n",
        "reviews_df.info()"
      ],
      "metadata": {
        "colab": {
          "base_uri": "https://localhost:8080/"
        },
        "id": "U9kb7tGH9vNS",
        "outputId": "402695cc-689f-4a92-f867-17aa7725e1b2"
      },
      "execution_count": null,
      "outputs": [
        {
          "output_type": "stream",
          "name": "stdout",
          "text": [
            "<class 'pandas.core.frame.DataFrame'>\n",
            "RangeIndex: 10767 entries, 0 to 10766\n",
            "Data columns (total 3 columns):\n",
            " #   Column       Non-Null Count  Dtype         \n",
            "---  ------       --------------  -----         \n",
            " 0   CompanyName  10767 non-null  object        \n",
            " 1   Review       10767 non-null  object        \n",
            " 2   Date         10767 non-null  datetime64[ns]\n",
            "dtypes: datetime64[ns](1), object(2)\n",
            "memory usage: 252.5+ KB\n"
          ]
        }
      ]
    },
    {
      "cell_type": "code",
      "source": [
        "#first few records\n",
        "reviews_df.head()"
      ],
      "metadata": {
        "colab": {
          "base_uri": "https://localhost:8080/",
          "height": 858
        },
        "id": "oBShfvXsAeQi",
        "outputId": "719a3392-36fe-43ba-e5ff-7a3903d2f99f"
      },
      "execution_count": null,
      "outputs": [
        {
          "output_type": "execute_result",
          "data": {
            "text/plain": [
              "  CompanyName  \\\n",
              "0   united_am   \n",
              "1   united_am   \n",
              "2   united_am   \n",
              "3   united_am   \n",
              "4   united_am   \n",
              "\n",
              "                                                                                                                                                                                                                                                                                                                                                                                                                                                                                                                                                                                                                                                                                                                                                                                                                                                                                                                        Review  \\\n",
              "0                                                                                                                                                                    I've been with United American Insurance for lots of years and I just pay my bill every month. Once a year, I get a letter that they're increasing their rates, which I would prefer they didn't, but I can understand that it has to. A lot of my friends have HMOs but I like that with my insurance, I can go to whichever doctor I want. I've not had one doctor say they don't accept this insurance. Whatever Medicare paid, United American Insurance paid the other 20%. I am pleased with the service I'm getting, where everything is covered and the choices are mine. Others have to go for a second opinion but I don't. If I feel I need to see a special doctor, I can make an appointment and go. So, the flexibility is worth the money.   \n",
              "1                                                                                                                                                                                                                                              United American has been fantastic. We have had not one bit of trouble collecting or paying for anything at all. So, we're extremely happy. I've had a lot of illnesses so many times and when you had as much as I've had, you get canceled pretty quickly by other companies. But United have not questioned and they have been unbelievable. We are very fortunate to have gotten them. We pay quite a bit, but it's worth the cost. When I was very ill on sepsis and pancreatic stones, I was in the hospital for 15 days and they were no questions asked. In the last few years, I've had treatments for my breast cancer and there were no questions about that either.   \n",
              "2                                                                                                                                                                                                                                                                              We've had very good luck with United American. We got it in 2001 and we have used it. My husband had open heart surgery quite a few years ago. Now, there was a discrepancy. I was just hospitalized from an accident on the farm here and we had a little problem, but it was more of the hospital. They kept saying I still owed $1,500. When we called United American, they said no, they had mailed a check. Somewhere, the check must have gotten lost, so they were going to rebill them again. But that was the only time that I had a problem. We're very satisfied with what we've got and our experience with it has been very good.   \n",
              "3                                                                                                                                                                                                                  We've had a United American Insurance policy for a long time, and the coverage has been excellent. It's like someone sweeping then someone picking up the filings with a magnet. It's very complete. We also get the mailings showing what has been paid. At one time, we had a rep, but I have never had to call customer service, because everything seemed to be always completed. Ever since we went on Medicare, we've enjoyed the service, and we've never had any reason to even contact anyone. UAI is fabulous, and I'd recommend it to anyone. It's not inexpensive, but when it comes right down to it, it's worth every penny. I just had some major surgery and I haven't seen a bill from it.   \n",
              "4  We were with Cleveland Clinic and when they stopped taking HMO, United American Insurance was there to pick up the pieces. I've had them ever since and they've always been extremely good with me. When I asked them a question, they gave me an answer. They've been fair too and I have never had anybody question me. All this time, I've had three back surgeries and two other major surgeries. I've never had them deny a claim that I had to go back for. Sometimes United American Insurance is a little more expensive than HMO. But they have the same things as an HMO. I had to have my eyes examined and they do a refractory that insurances don't pay for. A gentleman went too and he had insurance for the eyes. He gave a card and was told, “We're sorry, we don't take that anymore because they don't pay their bills.” I have never had anyone tell me they wouldn't take United American Insurance.   \n",
              "\n",
              "        Date  \n",
              "0 2023-05-11  \n",
              "1 2023-04-22  \n",
              "2 2022-10-28  \n",
              "3 2022-10-12  \n",
              "4 2022-09-01  "
            ],
            "text/html": [
              "\n",
              "  <div id=\"df-cc64e96a-e646-40bf-9e78-3f8657e9841c\">\n",
              "    <div class=\"colab-df-container\">\n",
              "      <div>\n",
              "<style scoped>\n",
              "    .dataframe tbody tr th:only-of-type {\n",
              "        vertical-align: middle;\n",
              "    }\n",
              "\n",
              "    .dataframe tbody tr th {\n",
              "        vertical-align: top;\n",
              "    }\n",
              "\n",
              "    .dataframe thead th {\n",
              "        text-align: right;\n",
              "    }\n",
              "</style>\n",
              "<table border=\"1\" class=\"dataframe\">\n",
              "  <thead>\n",
              "    <tr style=\"text-align: right;\">\n",
              "      <th></th>\n",
              "      <th>CompanyName</th>\n",
              "      <th>Review</th>\n",
              "      <th>Date</th>\n",
              "    </tr>\n",
              "  </thead>\n",
              "  <tbody>\n",
              "    <tr>\n",
              "      <th>0</th>\n",
              "      <td>united_am</td>\n",
              "      <td>I've been with United American Insurance for lots of years and I just pay my bill every month. Once a year, I get a letter that they're increasing their rates, which I would prefer they didn't, but I can understand that it has to. A lot of my friends have HMOs but I like that with my insurance, I can go to whichever doctor I want. I've not had one doctor say they don't accept this insurance. Whatever Medicare paid, United American Insurance paid the other 20%. I am pleased with the service I'm getting, where everything is covered and the choices are mine. Others have to go for a second opinion but I don't. If I feel I need to see a special doctor, I can make an appointment and go. So, the flexibility is worth the money.</td>\n",
              "      <td>2023-05-11</td>\n",
              "    </tr>\n",
              "    <tr>\n",
              "      <th>1</th>\n",
              "      <td>united_am</td>\n",
              "      <td>United American has been fantastic. We have had not one bit of trouble collecting or paying for anything at all. So, we're extremely happy. I've had a lot of illnesses so many times and when you had as much as I've had, you get canceled pretty quickly by other companies. But United have not questioned and they have been unbelievable. We are very fortunate to have gotten them. We pay quite a bit, but it's worth the cost. When I was very ill on sepsis and pancreatic stones, I was in the hospital for 15 days and they were no questions asked. In the last few years, I've had treatments for my breast cancer and there were no questions about that either.</td>\n",
              "      <td>2023-04-22</td>\n",
              "    </tr>\n",
              "    <tr>\n",
              "      <th>2</th>\n",
              "      <td>united_am</td>\n",
              "      <td>We've had very good luck with United American. We got it in 2001 and we have used it. My husband had open heart surgery quite a few years ago. Now, there was a discrepancy. I was just hospitalized from an accident on the farm here and we had a little problem, but it was more of the hospital. They kept saying I still owed $1,500. When we called United American, they said no, they had mailed a check. Somewhere, the check must have gotten lost, so they were going to rebill them again. But that was the only time that I had a problem. We're very satisfied with what we've got and our experience with it has been very good.</td>\n",
              "      <td>2022-10-28</td>\n",
              "    </tr>\n",
              "    <tr>\n",
              "      <th>3</th>\n",
              "      <td>united_am</td>\n",
              "      <td>We've had a United American Insurance policy for a long time, and the coverage has been excellent. It's like someone sweeping then someone picking up the filings with a magnet. It's very complete. We also get the mailings showing what has been paid. At one time, we had a rep, but I have never had to call customer service, because everything seemed to be always completed. Ever since we went on Medicare, we've enjoyed the service, and we've never had any reason to even contact anyone. UAI is fabulous, and I'd recommend it to anyone. It's not inexpensive, but when it comes right down to it, it's worth every penny. I just had some major surgery and I haven't seen a bill from it.</td>\n",
              "      <td>2022-10-12</td>\n",
              "    </tr>\n",
              "    <tr>\n",
              "      <th>4</th>\n",
              "      <td>united_am</td>\n",
              "      <td>We were with Cleveland Clinic and when they stopped taking HMO, United American Insurance was there to pick up the pieces. I've had them ever since and they've always been extremely good with me. When I asked them a question, they gave me an answer. They've been fair too and I have never had anybody question me. All this time, I've had three back surgeries and two other major surgeries. I've never had them deny a claim that I had to go back for. Sometimes United American Insurance is a little more expensive than HMO. But they have the same things as an HMO. I had to have my eyes examined and they do a refractory that insurances don't pay for. A gentleman went too and he had insurance for the eyes. He gave a card and was told, “We're sorry, we don't take that anymore because they don't pay their bills.” I have never had anyone tell me they wouldn't take United American Insurance.</td>\n",
              "      <td>2022-09-01</td>\n",
              "    </tr>\n",
              "  </tbody>\n",
              "</table>\n",
              "</div>\n",
              "      <button class=\"colab-df-convert\" onclick=\"convertToInteractive('df-cc64e96a-e646-40bf-9e78-3f8657e9841c')\"\n",
              "              title=\"Convert this dataframe to an interactive table.\"\n",
              "              style=\"display:none;\">\n",
              "        \n",
              "  <svg xmlns=\"http://www.w3.org/2000/svg\" height=\"24px\"viewBox=\"0 0 24 24\"\n",
              "       width=\"24px\">\n",
              "    <path d=\"M0 0h24v24H0V0z\" fill=\"none\"/>\n",
              "    <path d=\"M18.56 5.44l.94 2.06.94-2.06 2.06-.94-2.06-.94-.94-2.06-.94 2.06-2.06.94zm-11 1L8.5 8.5l.94-2.06 2.06-.94-2.06-.94L8.5 2.5l-.94 2.06-2.06.94zm10 10l.94 2.06.94-2.06 2.06-.94-2.06-.94-.94-2.06-.94 2.06-2.06.94z\"/><path d=\"M17.41 7.96l-1.37-1.37c-.4-.4-.92-.59-1.43-.59-.52 0-1.04.2-1.43.59L10.3 9.45l-7.72 7.72c-.78.78-.78 2.05 0 2.83L4 21.41c.39.39.9.59 1.41.59.51 0 1.02-.2 1.41-.59l7.78-7.78 2.81-2.81c.8-.78.8-2.07 0-2.86zM5.41 20L4 18.59l7.72-7.72 1.47 1.35L5.41 20z\"/>\n",
              "  </svg>\n",
              "      </button>\n",
              "      \n",
              "  <style>\n",
              "    .colab-df-container {\n",
              "      display:flex;\n",
              "      flex-wrap:wrap;\n",
              "      gap: 12px;\n",
              "    }\n",
              "\n",
              "    .colab-df-convert {\n",
              "      background-color: #E8F0FE;\n",
              "      border: none;\n",
              "      border-radius: 50%;\n",
              "      cursor: pointer;\n",
              "      display: none;\n",
              "      fill: #1967D2;\n",
              "      height: 32px;\n",
              "      padding: 0 0 0 0;\n",
              "      width: 32px;\n",
              "    }\n",
              "\n",
              "    .colab-df-convert:hover {\n",
              "      background-color: #E2EBFA;\n",
              "      box-shadow: 0px 1px 2px rgba(60, 64, 67, 0.3), 0px 1px 3px 1px rgba(60, 64, 67, 0.15);\n",
              "      fill: #174EA6;\n",
              "    }\n",
              "\n",
              "    [theme=dark] .colab-df-convert {\n",
              "      background-color: #3B4455;\n",
              "      fill: #D2E3FC;\n",
              "    }\n",
              "\n",
              "    [theme=dark] .colab-df-convert:hover {\n",
              "      background-color: #434B5C;\n",
              "      box-shadow: 0px 1px 3px 1px rgba(0, 0, 0, 0.15);\n",
              "      filter: drop-shadow(0px 1px 2px rgba(0, 0, 0, 0.3));\n",
              "      fill: #FFFFFF;\n",
              "    }\n",
              "  </style>\n",
              "\n",
              "      <script>\n",
              "        const buttonEl =\n",
              "          document.querySelector('#df-cc64e96a-e646-40bf-9e78-3f8657e9841c button.colab-df-convert');\n",
              "        buttonEl.style.display =\n",
              "          google.colab.kernel.accessAllowed ? 'block' : 'none';\n",
              "\n",
              "        async function convertToInteractive(key) {\n",
              "          const element = document.querySelector('#df-cc64e96a-e646-40bf-9e78-3f8657e9841c');\n",
              "          const dataTable =\n",
              "            await google.colab.kernel.invokeFunction('convertToInteractive',\n",
              "                                                     [key], {});\n",
              "          if (!dataTable) return;\n",
              "\n",
              "          const docLinkHtml = 'Like what you see? Visit the ' +\n",
              "            '<a target=\"_blank\" href=https://colab.research.google.com/notebooks/data_table.ipynb>data table notebook</a>'\n",
              "            + ' to learn more about interactive tables.';\n",
              "          element.innerHTML = '';\n",
              "          dataTable['output_type'] = 'display_data';\n",
              "          await google.colab.output.renderOutput(dataTable, element);\n",
              "          const docLink = document.createElement('div');\n",
              "          docLink.innerHTML = docLinkHtml;\n",
              "          element.appendChild(docLink);\n",
              "        }\n",
              "      </script>\n",
              "    </div>\n",
              "  </div>\n",
              "  "
            ]
          },
          "metadata": {},
          "execution_count": 26
        }
      ]
    },
    {
      "cell_type": "code",
      "source": [
        "#company names\n",
        "reviews_df['CompanyName'].value_counts()"
      ],
      "metadata": {
        "id": "RlnD61hFEw9s",
        "colab": {
          "base_uri": "https://localhost:8080/"
        },
        "outputId": "cee1538a-80f6-47e3-cd29-7c9f0228c23d"
      },
      "execution_count": null,
      "outputs": [
        {
          "output_type": "execute_result",
          "data": {
            "text/plain": [
              "united_health_care        1953\n",
              "humana                    1345\n",
              "kaiser                    1261\n",
              "aetna_health              1118\n",
              "cigna_health              1083\n",
              "anthem                     615\n",
              "humana-right-source-rx     453\n",
              "wellcare                   445\n",
              "bluecross_fl               427\n",
              "health_net                 422\n",
              "united_am                  393\n",
              "bluecross_ca               236\n",
              "bluecross_il               151\n",
              "golden_rule                136\n",
              "aarp_health                131\n",
              "amerihealth                128\n",
              "cigna_tel_drug              88\n",
              "carefirst                   83\n",
              "bluecross_nj                82\n",
              "ihc-health-solutions        75\n",
              "bluecross_ny                55\n",
              "highmark                    46\n",
              "amer_rep                    33\n",
              "oxford-health-plans          7\n",
              "medicareenrollmentcom        1\n",
              "Name: CompanyName, dtype: int64"
            ]
          },
          "metadata": {},
          "execution_count": 27
        }
      ]
    },
    {
      "cell_type": "markdown",
      "source": [
        "Let's change some names around for clarity."
      ],
      "metadata": {
        "id": "lNSnSJ4T3L0U"
      }
    },
    {
      "cell_type": "markdown",
      "source": [
        "# Data Cleaning"
      ],
      "metadata": {
        "id": "aMqRnTMVNr5m"
      }
    },
    {
      "cell_type": "code",
      "source": [
        "#initally thought about a for loop but at the end of the day it would still require me to write everything out\n",
        "#kiss strikes again\n",
        "reviews_df_nc= pd.DataFrame(reviews_df['CompanyName'].replace('humana-right-source-rx', 'humana' #nc for name change\n",
        "  ).replace('oxford-health-plans', 'united_health_care' #oxford is owned by united\n",
        "  ).replace('cigna_tel_drug', 'cigna_health'\n",
        "  ).replace('bluecross_fl','bluecross' #lets unify all the bluecross\n",
        "  ).replace('bluecross_ca', 'bluecross'\n",
        "  ).replace('bluecross_il', 'bluecross'\n",
        "  ).replace('bluecross_nj', 'bluecross'\n",
        "  ).replace('bluecross_ny', 'bluecross'\n",
        "  ).replace('united_am', 'united_american'\n",
        "  ).replace('amer_rep', 'american_republic'\n",
        "  ).replace('golden_rule', 'united_health_care' #golden rule is owned by united\n",
        "  ).replace('ihc-health-solutions', 'ihc_health_solutions')).join(reviews_df['Review']).join(reviews_df['Date'])\n",
        "\n",
        "reviews_df_nc['CompanyName'].value_counts()"
      ],
      "metadata": {
        "colab": {
          "base_uri": "https://localhost:8080/"
        },
        "id": "CuCAYVpEI-eG",
        "outputId": "aacb89e9-172e-4049-f7b9-302ead9b933a"
      },
      "execution_count": null,
      "outputs": [
        {
          "output_type": "execute_result",
          "data": {
            "text/plain": [
              "united_health_care       2096\n",
              "humana                   1798\n",
              "kaiser                   1261\n",
              "cigna_health             1171\n",
              "aetna_health             1118\n",
              "bluecross                 951\n",
              "anthem                    615\n",
              "wellcare                  445\n",
              "health_net                422\n",
              "united_american           393\n",
              "aarp_health               131\n",
              "amerihealth               128\n",
              "carefirst                  83\n",
              "ihc_health_solutions       75\n",
              "highmark                   46\n",
              "american_republic          33\n",
              "medicareenrollmentcom       1\n",
              "Name: CompanyName, dtype: int64"
            ]
          },
          "metadata": {},
          "execution_count": 28
        }
      ]
    },
    {
      "cell_type": "markdown",
      "source": [
        "Looking much better. Let's just go through all the text and make sure that"
      ],
      "metadata": {
        "id": "WIBM4Lyh3gNl"
      }
    },
    {
      "cell_type": "code",
      "source": [
        "#clean the data of non-ascii characters\n",
        "all_chars = list(string.ascii_letters + string.digits + string.punctuation + '“’”‘  ') #a bit of trial and error to get this part right\n",
        "\n",
        "for i in range(len(reviews_df_nc)):\n",
        "    clean_review = ''\n",
        "    for j in range(len(reviews_df_nc.loc[i, 'Review'])): #this part was kinda annoying to come up with, chatgpt got me though\n",
        "        if reviews_df_nc.loc[i, 'Review'][j] in all_chars:\n",
        "            clean_review += reviews_df_nc.loc[i, 'Review'][j]\n",
        "    reviews_df_nc.loc[i, 'Review'] = clean_review.strip()\n",
        "\n",
        "reviews_df_clean = reviews_df_nc\n",
        "\n",
        "reviews_df_clean.head()"
      ],
      "metadata": {
        "colab": {
          "base_uri": "https://localhost:8080/",
          "height": 1000
        },
        "id": "L1J_GkTcoaC4",
        "outputId": "5cb8349b-59a7-46ed-d5dc-79afe7cfde12"
      },
      "execution_count": null,
      "outputs": [
        {
          "output_type": "execute_result",
          "data": {
            "text/plain": [
              "                 CompanyName  \\\n",
              "0            united_american   \n",
              "1            united_american   \n",
              "2            united_american   \n",
              "3            united_american   \n",
              "4            united_american   \n",
              "...                      ...   \n",
              "10762      american_republic   \n",
              "10763      american_republic   \n",
              "10764      american_republic   \n",
              "10765      american_republic   \n",
              "10766  medicareenrollmentcom   \n",
              "\n",
              "                                                                                                                                                                                                                                                                                                                                                                                                                                                                                                                                                                                                                                                                                                                                                                                                                                                                                                                                                                                                                                                                                                                                                                                                                                                                                                                                                                                                                                                                                                                                                                                                                                                                                                                                                                                                                                                                                                                                                                                                                                                                                                                                                                                                                                                                                                                                                        Review  \\\n",
              "0                                                                                                                                                                                                                                                                                                                                                                                                                                                                                                                                                                                                                                                                                                                                                                                                                                                                                                                                                                                                                                                                                                                                                                                                                                                                                                                                                                                                                                                                                                                                                                                                    I've been with United American Insurance for lots of years and I just pay my bill every month. Once a year, I get a letter that they're increasing their rates, which I would prefer they didn't, but I can understand that it has to. A lot of my friends have HMOs but I like that with my insurance, I can go to whichever doctor I want. I've not had one doctor say they don't accept this insurance. Whatever Medicare paid, United American Insurance paid the other 20%. I am pleased with the service I'm getting, where everything is covered and the choices are mine. Others have to go for a second opinion but I don't. If I feel I need to see a special doctor, I can make an appointment and go. So, the flexibility is worth the money.   \n",
              "1                                                                                                                                                                                                                                                                                                                                                                                                                                                                                                                                                                                                                                                                                                                                                                                                                                                                                                                                                                                                                                                                                                                                                                                                                                                                                                                                                                                                                                                                                                                                                                                                                                                                              United American has been fantastic. We have had not one bit of trouble collecting or paying for anything at all. So, we're extremely happy. I've had a lot of illnesses so many times and when you had as much as I've had, you get canceled pretty quickly by other companies. But United have not questioned and they have been unbelievable. We are very fortunate to have gotten them. We pay quite a bit, but it's worth the cost. When I was very ill on sepsis and pancreatic stones, I was in the hospital for 15 days and they were no questions asked. In the last few years, I've had treatments for my breast cancer and there were no questions about that either.   \n",
              "2                                                                                                                                                                                                                                                                                                                                                                                                                                                                                                                                                                                                                                                                                                                                                                                                                                                                                                                                                                                                                                                                                                                                                                                                                                                                                                                                                                                                                                                                                                                                                                                                                                                                                                              We've had very good luck with United American. We got it in 2001 and we have used it. My husband had open heart surgery quite a few years ago. Now, there was a discrepancy. I was just hospitalized from an accident on the farm here and we had a little problem, but it was more of the hospital. They kept saying I still owed $1,500. When we called United American, they said no, they had mailed a check. Somewhere, the check must have gotten lost, so they were going to rebill them again. But that was the only time that I had a problem. We're very satisfied with what we've got and our experience with it has been very good.   \n",
              "3                                                                                                                                                                                                                                                                                                                                                                                                                                                                                                                                                                                                                                                                                                                                                                                                                                                                                                                                                                                                                                                                                                                                                                                                                                                                                                                                                                                                                                                                                                                                                                                                                                                  We've had a United American Insurance policy for a long time, and the coverage has been excellent. It's like someone sweeping then someone picking up the filings with a magnet. It's very complete. We also get the mailings showing what has been paid. At one time, we had a rep, but I have never had to call customer service, because everything seemed to be always completed. Ever since we went on Medicare, we've enjoyed the service, and we've never had any reason to even contact anyone. UAI is fabulous, and I'd recommend it to anyone. It's not inexpensive, but when it comes right down to it, it's worth every penny. I just had some major surgery and I haven't seen a bill from it.   \n",
              "4                                                                                                                                                                                                                                                                                                                                                                                                                                                                                                                                                                                                                                                                                                                                                                                                                                                                                                                                                                                                                                                                                                                                                                                                                                                                                                                                                                                                                                  We were with Cleveland Clinic and when they stopped taking HMO, United American Insurance was there to pick up the pieces. I've had them ever since and they've always been extremely good with me. When I asked them a question, they gave me an answer. They've been fair too and I have never had anybody question me. All this time, I've had three back surgeries and two other major surgeries. I've never had them deny a claim that I had to go back for. Sometimes United American Insurance is a little more expensive than HMO. But they have the same things as an HMO. I had to have my eyes examined and they do a refractory that insurances don't pay for. A gentleman went too and he had insurance for the eyes. He gave a card and was told, “We're sorry, we don't take that anymore because they don't pay their bills.” I have never had anyone tell me they wouldn't take United American Insurance.   \n",
              "...                                                                                                                                                                                                                                                                                                                                                                                                                                                                                                                                                                                                                                                                                                                                                                                                                                                                                                                                                                                                                                                                                                                                                                                                                                                                                                                                                                                                                                                                                                                                                                                                                                                                                                                                                                                                                                                                                                                                                                                                                                                                                                                                                                                                                                                                                                                                                        ...   \n",
              "10762                                                                                                                                                                                                                                                                                                                                                                                                                                                                                                                                                                                                                                                                                                                                                                                                                                                                                                                                                                                                                                                                                                                                                                                                                                                                                                                                                                                                                                                                                                                                                                                                                                                              Despite a deductible of $4000 and a co-insurance of $5000, American Republic saw fit to increase my premium 56% from last year.  This comes on top of annual increases since 2003 of 27% and 34%.  I have never met my deductible and receive essentially nothing toward preventive care from this company.  I'm tired of supporting the medical costs of people who eat at McDonald's and smoke cigarettes.  I have cancelled this policy and, at 56 years old, am taking far less insurance, at one-third the cost, through AARP.  Although it is not major medical, I refuse to subsidize these companies who care very little about the health (other than financial) of their clients.   \n",
              "10763  I have 2 complaints against this company. We started out paying around 100.00 pr month for individual health for my husband. Within 2-3 years we got notice that it was going up to around 650.00. I called and was going to cancel when they assurred me that the increase was because this was an ancient policy. We took out another policy with them which has higher deductible and does not cover as much. The premium has more than doubled already and we have not had it a year yet. I know medical costs go up, but this is rediculous.The way I see it is that as soon as you are approved for a policy it becomes ancient.The pity of it is that my husband hardly uses it to begin with. It will be dropped the next time that I get notice of an increase!  My second complaint is with their privacy issue.Last year AR was billed for charges that were supposed to go to workers comp and when I tried to tell them, I could not speak with them.My husband filled out the form giving permission for them to discuss his case, they sent him a letter to confirm that it was his signature. Before it was over he had signed 3 forms and called to verify. Last month the recovery service called me and asked all sorts of questions about past claims, yet when I called yesterday to find out the calander year date, they could not discuss anything because they could not find a permission form. We have about pulled out our hair dealing with these people and their sorry customer service.I am basically an honest person , but privacy issues go two ways. If someone makes a mistake I cannot report it because they do not have permission to speak with me. I feel that this company is price gouging to begin with - most companies give you a year before raising rates and they don't double the premium every time. They also make it so difficult to deal with them that most people give up- which probably saves on claims again. We are shopping for insurance at the moment. I refuse to hand them 1/3 of my income for nothing. I intend to tell everyone I know and to post online in every venue I can what a lousy deal you get with this company and recommend that they go elsewhere.If malpractice suits could be brought against customer service at American Republic I would be a billionaire soon.   \n",
              "10764                                                                                                                                                                                                                                                                                                                                                                                                                                                                                                                                                                                                                                                                                                                                                                                                                                                                                                                                                                                                                                                                                                                                                                                                                                                                             We had insurance on both our sons, one who lives primarily in Boca Raton FL.  We were assured by the salesman, Dale, that the president of the company approved this.  Our son in Florida broke some ribs and went to the hospital and was informed that no doctor in south Fl was in American Republic's network.  He was not able to get treatment without paying himself, although we paid premiums to American Republic each month since December.  I emailed the company in early May and wrote to Mr Mikkelsen 3/31/5 and have never received a reply.  Now this salesman, Dale, is calling our son in Florida and threatening him - 5 times today, 8/2/5 and he has a record of each call.  The person who represents American Republic has threatened to hurt our son.  What can we do?Our son never received proper treatment for three broken ribs except for the most minor of treatment which meant he was unable to work for a few weeks and we had to pay his rent, and basically support him.  It is now August 2nd and he continues to have some discomfort.   \n",
              "10765                                                                                                                                                                                             First off, the reason I cancelled this company's health insurance coverage is because it DOUBLED in ONE year.  I called on December 30, 2002 and spoke with Debbie from Customer Service to cancel my health insurance, THREE days before they should have taken the premium out of my account, she told me the draft had already left their office FOUR days before it was to come out of my account.  I told her the money wasn't in there.  I'll make a note of that, she said.  Who would know they sent the draft from their office almost a WEEK before it was to come out?  They could send it out of their office a month before and I wouldn't know.  It is not in their policy how early they send it out.  Around the 9th, I called and spoke to Vicki, a Supervisor, to see if they would reimburse me the $25 NSF fee they caused me and she told me basically that I was out of luck.  Then, they tried to take it out of my account AGAIN on January 13th.  Which caused the bank to charge me another $25 NSF fee.  When I called again on the 15th to complain, I spoke with Melissa from Customer Service and she told me they had no record of trying to draft the money again.  I faxed them the information that they HAD indeed tried and a letter, letting them know how I wanted it taken care of and they never returned my call.  I called the bank and put a stop payment, which cost me ANOTHER $25, on the amount so they couldn't cause me anymore NSF fees.  I called them again the next day and spoke with Marsha from Customer Service, she proceeded to tell me that wasn't their policy to refund charges they CAUSE!  I am willing to eat the $25 stop payment, just so they can't continue to compound NSF fees.  But I do expect to be reimubrsed by the company the $50 for NSF fees they caused.  I can't help but wonder, had I been a satisfied customer calling them to ask them to delay the draft because the money would be late instead of an unhappy customer calling to cancel my health insurance, if the things would have turned out differently.It cost me $75 to cancel my health insurance coverage.   \n",
              "10766                                                                                                                                                                                                                                                                                                                                                                                                                                                                                                                                                                                                                                                                                                                                                                                                                                                                                                                                                                                                                                                                                                                                                                                                                                                                                                                                                                                                                                                                                                                                                                                                                                                                                                                                                                                                                                                                                                                                                                                                                                                                                                               There should be different levels to medicare, 95%, 90%, 85%, 80% and paying according to percentage. Also, there should be dental and vision. Seniors need good insurance, why do we need to buy supplemental insurance, a waste of money.   \n",
              "\n",
              "            Date  \n",
              "0     2023-05-11  \n",
              "1     2023-04-22  \n",
              "2     2022-10-28  \n",
              "3     2022-10-12  \n",
              "4     2022-09-01  \n",
              "...          ...  \n",
              "10762 2006-01-29  \n",
              "10763 2005-08-26  \n",
              "10764 2005-08-02  \n",
              "10765 2003-01-17  \n",
              "10766 2021-08-26  \n",
              "\n",
              "[10767 rows x 3 columns]"
            ],
            "text/html": [
              "\n",
              "  <div id=\"df-50fbbbb5-20de-48db-ae3a-8cf65af6a2ff\">\n",
              "    <div class=\"colab-df-container\">\n",
              "      <div>\n",
              "<style scoped>\n",
              "    .dataframe tbody tr th:only-of-type {\n",
              "        vertical-align: middle;\n",
              "    }\n",
              "\n",
              "    .dataframe tbody tr th {\n",
              "        vertical-align: top;\n",
              "    }\n",
              "\n",
              "    .dataframe thead th {\n",
              "        text-align: right;\n",
              "    }\n",
              "</style>\n",
              "<table border=\"1\" class=\"dataframe\">\n",
              "  <thead>\n",
              "    <tr style=\"text-align: right;\">\n",
              "      <th></th>\n",
              "      <th>CompanyName</th>\n",
              "      <th>Review</th>\n",
              "      <th>Date</th>\n",
              "    </tr>\n",
              "  </thead>\n",
              "  <tbody>\n",
              "    <tr>\n",
              "      <th>0</th>\n",
              "      <td>united_american</td>\n",
              "      <td>I've been with United American Insurance for lots of years and I just pay my bill every month. Once a year, I get a letter that they're increasing their rates, which I would prefer they didn't, but I can understand that it has to. A lot of my friends have HMOs but I like that with my insurance, I can go to whichever doctor I want. I've not had one doctor say they don't accept this insurance. Whatever Medicare paid, United American Insurance paid the other 20%. I am pleased with the service I'm getting, where everything is covered and the choices are mine. Others have to go for a second opinion but I don't. If I feel I need to see a special doctor, I can make an appointment and go. So, the flexibility is worth the money.</td>\n",
              "      <td>2023-05-11</td>\n",
              "    </tr>\n",
              "    <tr>\n",
              "      <th>1</th>\n",
              "      <td>united_american</td>\n",
              "      <td>United American has been fantastic. We have had not one bit of trouble collecting or paying for anything at all. So, we're extremely happy. I've had a lot of illnesses so many times and when you had as much as I've had, you get canceled pretty quickly by other companies. But United have not questioned and they have been unbelievable. We are very fortunate to have gotten them. We pay quite a bit, but it's worth the cost. When I was very ill on sepsis and pancreatic stones, I was in the hospital for 15 days and they were no questions asked. In the last few years, I've had treatments for my breast cancer and there were no questions about that either.</td>\n",
              "      <td>2023-04-22</td>\n",
              "    </tr>\n",
              "    <tr>\n",
              "      <th>2</th>\n",
              "      <td>united_american</td>\n",
              "      <td>We've had very good luck with United American. We got it in 2001 and we have used it. My husband had open heart surgery quite a few years ago. Now, there was a discrepancy. I was just hospitalized from an accident on the farm here and we had a little problem, but it was more of the hospital. They kept saying I still owed $1,500. When we called United American, they said no, they had mailed a check. Somewhere, the check must have gotten lost, so they were going to rebill them again. But that was the only time that I had a problem. We're very satisfied with what we've got and our experience with it has been very good.</td>\n",
              "      <td>2022-10-28</td>\n",
              "    </tr>\n",
              "    <tr>\n",
              "      <th>3</th>\n",
              "      <td>united_american</td>\n",
              "      <td>We've had a United American Insurance policy for a long time, and the coverage has been excellent. It's like someone sweeping then someone picking up the filings with a magnet. It's very complete. We also get the mailings showing what has been paid. At one time, we had a rep, but I have never had to call customer service, because everything seemed to be always completed. Ever since we went on Medicare, we've enjoyed the service, and we've never had any reason to even contact anyone. UAI is fabulous, and I'd recommend it to anyone. It's not inexpensive, but when it comes right down to it, it's worth every penny. I just had some major surgery and I haven't seen a bill from it.</td>\n",
              "      <td>2022-10-12</td>\n",
              "    </tr>\n",
              "    <tr>\n",
              "      <th>4</th>\n",
              "      <td>united_american</td>\n",
              "      <td>We were with Cleveland Clinic and when they stopped taking HMO, United American Insurance was there to pick up the pieces. I've had them ever since and they've always been extremely good with me. When I asked them a question, they gave me an answer. They've been fair too and I have never had anybody question me. All this time, I've had three back surgeries and two other major surgeries. I've never had them deny a claim that I had to go back for. Sometimes United American Insurance is a little more expensive than HMO. But they have the same things as an HMO. I had to have my eyes examined and they do a refractory that insurances don't pay for. A gentleman went too and he had insurance for the eyes. He gave a card and was told, “We're sorry, we don't take that anymore because they don't pay their bills.” I have never had anyone tell me they wouldn't take United American Insurance.</td>\n",
              "      <td>2022-09-01</td>\n",
              "    </tr>\n",
              "    <tr>\n",
              "      <th>...</th>\n",
              "      <td>...</td>\n",
              "      <td>...</td>\n",
              "      <td>...</td>\n",
              "    </tr>\n",
              "    <tr>\n",
              "      <th>10762</th>\n",
              "      <td>american_republic</td>\n",
              "      <td>Despite a deductible of $4000 and a co-insurance of $5000, American Republic saw fit to increase my premium 56% from last year.  This comes on top of annual increases since 2003 of 27% and 34%.  I have never met my deductible and receive essentially nothing toward preventive care from this company.  I'm tired of supporting the medical costs of people who eat at McDonald's and smoke cigarettes.  I have cancelled this policy and, at 56 years old, am taking far less insurance, at one-third the cost, through AARP.  Although it is not major medical, I refuse to subsidize these companies who care very little about the health (other than financial) of their clients.</td>\n",
              "      <td>2006-01-29</td>\n",
              "    </tr>\n",
              "    <tr>\n",
              "      <th>10763</th>\n",
              "      <td>american_republic</td>\n",
              "      <td>I have 2 complaints against this company. We started out paying around 100.00 pr month for individual health for my husband. Within 2-3 years we got notice that it was going up to around 650.00. I called and was going to cancel when they assurred me that the increase was because this was an ancient policy. We took out another policy with them which has higher deductible and does not cover as much. The premium has more than doubled already and we have not had it a year yet. I know medical costs go up, but this is rediculous.The way I see it is that as soon as you are approved for a policy it becomes ancient.The pity of it is that my husband hardly uses it to begin with. It will be dropped the next time that I get notice of an increase!  My second complaint is with their privacy issue.Last year AR was billed for charges that were supposed to go to workers comp and when I tried to tell them, I could not speak with them.My husband filled out the form giving permission for them to discuss his case, they sent him a letter to confirm that it was his signature. Before it was over he had signed 3 forms and called to verify. Last month the recovery service called me and asked all sorts of questions about past claims, yet when I called yesterday to find out the calander year date, they could not discuss anything because they could not find a permission form. We have about pulled out our hair dealing with these people and their sorry customer service.I am basically an honest person , but privacy issues go two ways. If someone makes a mistake I cannot report it because they do not have permission to speak with me. I feel that this company is price gouging to begin with - most companies give you a year before raising rates and they don't double the premium every time. They also make it so difficult to deal with them that most people give up- which probably saves on claims again. We are shopping for insurance at the moment. I refuse to hand them 1/3 of my income for nothing. I intend to tell everyone I know and to post online in every venue I can what a lousy deal you get with this company and recommend that they go elsewhere.If malpractice suits could be brought against customer service at American Republic I would be a billionaire soon.</td>\n",
              "      <td>2005-08-26</td>\n",
              "    </tr>\n",
              "    <tr>\n",
              "      <th>10764</th>\n",
              "      <td>american_republic</td>\n",
              "      <td>We had insurance on both our sons, one who lives primarily in Boca Raton FL.  We were assured by the salesman, Dale, that the president of the company approved this.  Our son in Florida broke some ribs and went to the hospital and was informed that no doctor in south Fl was in American Republic's network.  He was not able to get treatment without paying himself, although we paid premiums to American Republic each month since December.  I emailed the company in early May and wrote to Mr Mikkelsen 3/31/5 and have never received a reply.  Now this salesman, Dale, is calling our son in Florida and threatening him - 5 times today, 8/2/5 and he has a record of each call.  The person who represents American Republic has threatened to hurt our son.  What can we do?Our son never received proper treatment for three broken ribs except for the most minor of treatment which meant he was unable to work for a few weeks and we had to pay his rent, and basically support him.  It is now August 2nd and he continues to have some discomfort.</td>\n",
              "      <td>2005-08-02</td>\n",
              "    </tr>\n",
              "    <tr>\n",
              "      <th>10765</th>\n",
              "      <td>american_republic</td>\n",
              "      <td>First off, the reason I cancelled this company's health insurance coverage is because it DOUBLED in ONE year.  I called on December 30, 2002 and spoke with Debbie from Customer Service to cancel my health insurance, THREE days before they should have taken the premium out of my account, she told me the draft had already left their office FOUR days before it was to come out of my account.  I told her the money wasn't in there.  I'll make a note of that, she said.  Who would know they sent the draft from their office almost a WEEK before it was to come out?  They could send it out of their office a month before and I wouldn't know.  It is not in their policy how early they send it out.  Around the 9th, I called and spoke to Vicki, a Supervisor, to see if they would reimburse me the $25 NSF fee they caused me and she told me basically that I was out of luck.  Then, they tried to take it out of my account AGAIN on January 13th.  Which caused the bank to charge me another $25 NSF fee.  When I called again on the 15th to complain, I spoke with Melissa from Customer Service and she told me they had no record of trying to draft the money again.  I faxed them the information that they HAD indeed tried and a letter, letting them know how I wanted it taken care of and they never returned my call.  I called the bank and put a stop payment, which cost me ANOTHER $25, on the amount so they couldn't cause me anymore NSF fees.  I called them again the next day and spoke with Marsha from Customer Service, she proceeded to tell me that wasn't their policy to refund charges they CAUSE!  I am willing to eat the $25 stop payment, just so they can't continue to compound NSF fees.  But I do expect to be reimubrsed by the company the $50 for NSF fees they caused.  I can't help but wonder, had I been a satisfied customer calling them to ask them to delay the draft because the money would be late instead of an unhappy customer calling to cancel my health insurance, if the things would have turned out differently.It cost me $75 to cancel my health insurance coverage.</td>\n",
              "      <td>2003-01-17</td>\n",
              "    </tr>\n",
              "    <tr>\n",
              "      <th>10766</th>\n",
              "      <td>medicareenrollmentcom</td>\n",
              "      <td>There should be different levels to medicare, 95%, 90%, 85%, 80% and paying according to percentage. Also, there should be dental and vision. Seniors need good insurance, why do we need to buy supplemental insurance, a waste of money.</td>\n",
              "      <td>2021-08-26</td>\n",
              "    </tr>\n",
              "  </tbody>\n",
              "</table>\n",
              "<p>10767 rows × 3 columns</p>\n",
              "</div>\n",
              "      <button class=\"colab-df-convert\" onclick=\"convertToInteractive('df-50fbbbb5-20de-48db-ae3a-8cf65af6a2ff')\"\n",
              "              title=\"Convert this dataframe to an interactive table.\"\n",
              "              style=\"display:none;\">\n",
              "        \n",
              "  <svg xmlns=\"http://www.w3.org/2000/svg\" height=\"24px\"viewBox=\"0 0 24 24\"\n",
              "       width=\"24px\">\n",
              "    <path d=\"M0 0h24v24H0V0z\" fill=\"none\"/>\n",
              "    <path d=\"M18.56 5.44l.94 2.06.94-2.06 2.06-.94-2.06-.94-.94-2.06-.94 2.06-2.06.94zm-11 1L8.5 8.5l.94-2.06 2.06-.94-2.06-.94L8.5 2.5l-.94 2.06-2.06.94zm10 10l.94 2.06.94-2.06 2.06-.94-2.06-.94-.94-2.06-.94 2.06-2.06.94z\"/><path d=\"M17.41 7.96l-1.37-1.37c-.4-.4-.92-.59-1.43-.59-.52 0-1.04.2-1.43.59L10.3 9.45l-7.72 7.72c-.78.78-.78 2.05 0 2.83L4 21.41c.39.39.9.59 1.41.59.51 0 1.02-.2 1.41-.59l7.78-7.78 2.81-2.81c.8-.78.8-2.07 0-2.86zM5.41 20L4 18.59l7.72-7.72 1.47 1.35L5.41 20z\"/>\n",
              "  </svg>\n",
              "      </button>\n",
              "      \n",
              "  <style>\n",
              "    .colab-df-container {\n",
              "      display:flex;\n",
              "      flex-wrap:wrap;\n",
              "      gap: 12px;\n",
              "    }\n",
              "\n",
              "    .colab-df-convert {\n",
              "      background-color: #E8F0FE;\n",
              "      border: none;\n",
              "      border-radius: 50%;\n",
              "      cursor: pointer;\n",
              "      display: none;\n",
              "      fill: #1967D2;\n",
              "      height: 32px;\n",
              "      padding: 0 0 0 0;\n",
              "      width: 32px;\n",
              "    }\n",
              "\n",
              "    .colab-df-convert:hover {\n",
              "      background-color: #E2EBFA;\n",
              "      box-shadow: 0px 1px 2px rgba(60, 64, 67, 0.3), 0px 1px 3px 1px rgba(60, 64, 67, 0.15);\n",
              "      fill: #174EA6;\n",
              "    }\n",
              "\n",
              "    [theme=dark] .colab-df-convert {\n",
              "      background-color: #3B4455;\n",
              "      fill: #D2E3FC;\n",
              "    }\n",
              "\n",
              "    [theme=dark] .colab-df-convert:hover {\n",
              "      background-color: #434B5C;\n",
              "      box-shadow: 0px 1px 3px 1px rgba(0, 0, 0, 0.15);\n",
              "      filter: drop-shadow(0px 1px 2px rgba(0, 0, 0, 0.3));\n",
              "      fill: #FFFFFF;\n",
              "    }\n",
              "  </style>\n",
              "\n",
              "      <script>\n",
              "        const buttonEl =\n",
              "          document.querySelector('#df-50fbbbb5-20de-48db-ae3a-8cf65af6a2ff button.colab-df-convert');\n",
              "        buttonEl.style.display =\n",
              "          google.colab.kernel.accessAllowed ? 'block' : 'none';\n",
              "\n",
              "        async function convertToInteractive(key) {\n",
              "          const element = document.querySelector('#df-50fbbbb5-20de-48db-ae3a-8cf65af6a2ff');\n",
              "          const dataTable =\n",
              "            await google.colab.kernel.invokeFunction('convertToInteractive',\n",
              "                                                     [key], {});\n",
              "          if (!dataTable) return;\n",
              "\n",
              "          const docLinkHtml = 'Like what you see? Visit the ' +\n",
              "            '<a target=\"_blank\" href=https://colab.research.google.com/notebooks/data_table.ipynb>data table notebook</a>'\n",
              "            + ' to learn more about interactive tables.';\n",
              "          element.innerHTML = '';\n",
              "          dataTable['output_type'] = 'display_data';\n",
              "          await google.colab.output.renderOutput(dataTable, element);\n",
              "          const docLink = document.createElement('div');\n",
              "          docLink.innerHTML = docLinkHtml;\n",
              "          element.appendChild(docLink);\n",
              "        }\n",
              "      </script>\n",
              "    </div>\n",
              "  </div>\n",
              "  "
            ]
          },
          "metadata": {},
          "execution_count": 29
        }
      ]
    },
    {
      "cell_type": "markdown",
      "source": [
        "Now lets ensure that our data is clean."
      ],
      "metadata": {
        "id": "qTjAeBCTqENF"
      }
    },
    {
      "cell_type": "code",
      "source": [
        "#checking for nulls\n",
        "missing_data = reviews_df_clean.isnull()\n",
        "\n",
        "#prints no missing values for all columns unless nulls exist\n",
        "for column in missing_data.columns.values.tolist():\n",
        "  if missing_data[column].sum() != 0:\n",
        "    print(column)\n",
        "    print (missing_data[column].sum())\n",
        "    print(\"\")\n",
        "  else:\n",
        "    print(column,\"has no missing values\\n\")"
      ],
      "metadata": {
        "colab": {
          "base_uri": "https://localhost:8080/"
        },
        "id": "7a1Cf5o4fOL2",
        "outputId": "570ffafc-879a-4961-c451-8bf407d83abc"
      },
      "execution_count": null,
      "outputs": [
        {
          "output_type": "stream",
          "name": "stdout",
          "text": [
            "CompanyName has no missing values\n",
            "\n",
            "Review has no missing values\n",
            "\n",
            "Date has no missing values\n",
            "\n"
          ]
        }
      ]
    },
    {
      "cell_type": "markdown",
      "source": [
        "Looks good on nulls."
      ],
      "metadata": {
        "id": "VnYIfW3TkyUW"
      }
    },
    {
      "cell_type": "code",
      "source": [
        "#removing duplicate values\n",
        "reviews_df_clean = reviews_df_clean.drop_duplicates(keep='first')\n",
        "reviews_df_clean.info()"
      ],
      "metadata": {
        "colab": {
          "base_uri": "https://localhost:8080/"
        },
        "id": "EX-Z98g1fk2i",
        "outputId": "c91fcc9c-c1a1-4a68-c24b-c8226eced504"
      },
      "execution_count": null,
      "outputs": [
        {
          "output_type": "stream",
          "name": "stdout",
          "text": [
            "<class 'pandas.core.frame.DataFrame'>\n",
            "Int64Index: 10767 entries, 0 to 10766\n",
            "Data columns (total 3 columns):\n",
            " #   Column       Non-Null Count  Dtype         \n",
            "---  ------       --------------  -----         \n",
            " 0   CompanyName  10767 non-null  object        \n",
            " 1   Review       10767 non-null  object        \n",
            " 2   Date         10767 non-null  datetime64[ns]\n",
            "dtypes: datetime64[ns](1), object(2)\n",
            "memory usage: 336.5+ KB\n"
          ]
        }
      ]
    },
    {
      "cell_type": "markdown",
      "source": [
        "Also looks like no duplicates were created."
      ],
      "metadata": {
        "id": "plBFn9BYk46G"
      }
    },
    {
      "cell_type": "markdown",
      "source": [
        "# Adding Features"
      ],
      "metadata": {
        "id": "ZM0EBLTzYSHF"
      }
    },
    {
      "cell_type": "markdown",
      "source": [
        "Let's explore the companies one by one. Companies are either publicly traded, private, or even non-profit. We also have one review for the mericareenrollment site. Since an individual review an analysis does not make, we'll be dropping it."
      ],
      "metadata": {
        "id": "4i1bYfSUM6WY"
      }
    },
    {
      "cell_type": "code",
      "source": [
        "#drop individual record\n",
        "reviews_df_clean = reviews_df_clean[reviews_df_clean.CompanyName != 'medicareenrollmentcom']\n",
        "reviews_df_clean.head()"
      ],
      "metadata": {
        "colab": {
          "base_uri": "https://localhost:8080/",
          "height": 1000
        },
        "id": "PBMftHU4M5q6",
        "outputId": "5722f37c-2b96-4ff9-c14a-40661c4086e0"
      },
      "execution_count": null,
      "outputs": [
        {
          "output_type": "execute_result",
          "data": {
            "text/plain": [
              "             CompanyName  \\\n",
              "0        united_american   \n",
              "1        united_american   \n",
              "2        united_american   \n",
              "3        united_american   \n",
              "4        united_american   \n",
              "...                  ...   \n",
              "10761  american_republic   \n",
              "10762  american_republic   \n",
              "10763  american_republic   \n",
              "10764  american_republic   \n",
              "10765  american_republic   \n",
              "\n",
              "                                                                                                                                                                                                                                                                                                                                                                                                                                                                                                                                                                                                                                                                                                                                                                                                                                                                                                                                                                                                                                                                                                                                                                                                                                                                                                                                                                                                                                                                                                                                                                                                                                                                                                                                                                                                                                                                                                                                                                                                                                                                                                                                                                                                                                                                                                                                                        Review  \\\n",
              "0                                                                                                                                                                                                                                                                                                                                                                                                                                                                                                                                                                                                                                                                                                                                                                                                                                                                                                                                                                                                                                                                                                                                                                                                                                                                                                                                                                                                                                                                                                                                                                                                    I've been with United American Insurance for lots of years and I just pay my bill every month. Once a year, I get a letter that they're increasing their rates, which I would prefer they didn't, but I can understand that it has to. A lot of my friends have HMOs but I like that with my insurance, I can go to whichever doctor I want. I've not had one doctor say they don't accept this insurance. Whatever Medicare paid, United American Insurance paid the other 20%. I am pleased with the service I'm getting, where everything is covered and the choices are mine. Others have to go for a second opinion but I don't. If I feel I need to see a special doctor, I can make an appointment and go. So, the flexibility is worth the money.   \n",
              "1                                                                                                                                                                                                                                                                                                                                                                                                                                                                                                                                                                                                                                                                                                                                                                                                                                                                                                                                                                                                                                                                                                                                                                                                                                                                                                                                                                                                                                                                                                                                                                                                                                                                              United American has been fantastic. We have had not one bit of trouble collecting or paying for anything at all. So, we're extremely happy. I've had a lot of illnesses so many times and when you had as much as I've had, you get canceled pretty quickly by other companies. But United have not questioned and they have been unbelievable. We are very fortunate to have gotten them. We pay quite a bit, but it's worth the cost. When I was very ill on sepsis and pancreatic stones, I was in the hospital for 15 days and they were no questions asked. In the last few years, I've had treatments for my breast cancer and there were no questions about that either.   \n",
              "2                                                                                                                                                                                                                                                                                                                                                                                                                                                                                                                                                                                                                                                                                                                                                                                                                                                                                                                                                                                                                                                                                                                                                                                                                                                                                                                                                                                                                                                                                                                                                                                                                                                                                                              We've had very good luck with United American. We got it in 2001 and we have used it. My husband had open heart surgery quite a few years ago. Now, there was a discrepancy. I was just hospitalized from an accident on the farm here and we had a little problem, but it was more of the hospital. They kept saying I still owed $1,500. When we called United American, they said no, they had mailed a check. Somewhere, the check must have gotten lost, so they were going to rebill them again. But that was the only time that I had a problem. We're very satisfied with what we've got and our experience with it has been very good.   \n",
              "3                                                                                                                                                                                                                                                                                                                                                                                                                                                                                                                                                                                                                                                                                                                                                                                                                                                                                                                                                                                                                                                                                                                                                                                                                                                                                                                                                                                                                                                                                                                                                                                                                                                  We've had a United American Insurance policy for a long time, and the coverage has been excellent. It's like someone sweeping then someone picking up the filings with a magnet. It's very complete. We also get the mailings showing what has been paid. At one time, we had a rep, but I have never had to call customer service, because everything seemed to be always completed. Ever since we went on Medicare, we've enjoyed the service, and we've never had any reason to even contact anyone. UAI is fabulous, and I'd recommend it to anyone. It's not inexpensive, but when it comes right down to it, it's worth every penny. I just had some major surgery and I haven't seen a bill from it.   \n",
              "4                                                                                                                                                                                                                                                                                                                                                                                                                                                                                                                                                                                                                                                                                                                                                                                                                                                                                                                                                                                                                                                                                                                                                                                                                                                                                                                                                                                                                                  We were with Cleveland Clinic and when they stopped taking HMO, United American Insurance was there to pick up the pieces. I've had them ever since and they've always been extremely good with me. When I asked them a question, they gave me an answer. They've been fair too and I have never had anybody question me. All this time, I've had three back surgeries and two other major surgeries. I've never had them deny a claim that I had to go back for. Sometimes United American Insurance is a little more expensive than HMO. But they have the same things as an HMO. I had to have my eyes examined and they do a refractory that insurances don't pay for. A gentleman went too and he had insurance for the eyes. He gave a card and was told, “We're sorry, we don't take that anymore because they don't pay their bills.” I have never had anyone tell me they wouldn't take United American Insurance.   \n",
              "...                                                                                                                                                                                                                                                                                                                                                                                                                                                                                                                                                                                                                                                                                                                                                                                                                                                                                                                                                                                                                                                                                                                                                                                                                                                                                                                                                                                                                                                                                                                                                                                                                                                                                                                                                                                                                                                                                                                                                                                                                                                                                                                                                                                                                                                                                                                                                        ...   \n",
              "10761                                                                                                                                                                                                                                                                                                                                                                                                                                                                                                                                                                                                                                                                                                                                                                                                                                                                                                                                                                                                                                                                                                                                                                                                                                                                                                                                                                                                                                                                                                                                                                                                                                                                                                                                                                                                                         Abusive unexplained rate increases and unexplained discount reductions on high deductible MSA/HSA plans that my agent can't explain. He says the company rep hasn't called him back.I pay my ever increasing premiums, fund my HSA's and still wind up paying paying for virtually all my own medical care. I haven't had a complete physical in years and haven't met deductible in 2 years yet my rates are spiraling out of control in apparent conflict with the rate determination process in place at the time I enrolled.   \n",
              "10762                                                                                                                                                                                                                                                                                                                                                                                                                                                                                                                                                                                                                                                                                                                                                                                                                                                                                                                                                                                                                                                                                                                                                                                                                                                                                                                                                                                                                                                                                                                                                                                                                                                              Despite a deductible of $4000 and a co-insurance of $5000, American Republic saw fit to increase my premium 56% from last year.  This comes on top of annual increases since 2003 of 27% and 34%.  I have never met my deductible and receive essentially nothing toward preventive care from this company.  I'm tired of supporting the medical costs of people who eat at McDonald's and smoke cigarettes.  I have cancelled this policy and, at 56 years old, am taking far less insurance, at one-third the cost, through AARP.  Although it is not major medical, I refuse to subsidize these companies who care very little about the health (other than financial) of their clients.   \n",
              "10763  I have 2 complaints against this company. We started out paying around 100.00 pr month for individual health for my husband. Within 2-3 years we got notice that it was going up to around 650.00. I called and was going to cancel when they assurred me that the increase was because this was an ancient policy. We took out another policy with them which has higher deductible and does not cover as much. The premium has more than doubled already and we have not had it a year yet. I know medical costs go up, but this is rediculous.The way I see it is that as soon as you are approved for a policy it becomes ancient.The pity of it is that my husband hardly uses it to begin with. It will be dropped the next time that I get notice of an increase!  My second complaint is with their privacy issue.Last year AR was billed for charges that were supposed to go to workers comp and when I tried to tell them, I could not speak with them.My husband filled out the form giving permission for them to discuss his case, they sent him a letter to confirm that it was his signature. Before it was over he had signed 3 forms and called to verify. Last month the recovery service called me and asked all sorts of questions about past claims, yet when I called yesterday to find out the calander year date, they could not discuss anything because they could not find a permission form. We have about pulled out our hair dealing with these people and their sorry customer service.I am basically an honest person , but privacy issues go two ways. If someone makes a mistake I cannot report it because they do not have permission to speak with me. I feel that this company is price gouging to begin with - most companies give you a year before raising rates and they don't double the premium every time. They also make it so difficult to deal with them that most people give up- which probably saves on claims again. We are shopping for insurance at the moment. I refuse to hand them 1/3 of my income for nothing. I intend to tell everyone I know and to post online in every venue I can what a lousy deal you get with this company and recommend that they go elsewhere.If malpractice suits could be brought against customer service at American Republic I would be a billionaire soon.   \n",
              "10764                                                                                                                                                                                                                                                                                                                                                                                                                                                                                                                                                                                                                                                                                                                                                                                                                                                                                                                                                                                                                                                                                                                                                                                                                                                                             We had insurance on both our sons, one who lives primarily in Boca Raton FL.  We were assured by the salesman, Dale, that the president of the company approved this.  Our son in Florida broke some ribs and went to the hospital and was informed that no doctor in south Fl was in American Republic's network.  He was not able to get treatment without paying himself, although we paid premiums to American Republic each month since December.  I emailed the company in early May and wrote to Mr Mikkelsen 3/31/5 and have never received a reply.  Now this salesman, Dale, is calling our son in Florida and threatening him - 5 times today, 8/2/5 and he has a record of each call.  The person who represents American Republic has threatened to hurt our son.  What can we do?Our son never received proper treatment for three broken ribs except for the most minor of treatment which meant he was unable to work for a few weeks and we had to pay his rent, and basically support him.  It is now August 2nd and he continues to have some discomfort.   \n",
              "10765                                                                                                                                                                                             First off, the reason I cancelled this company's health insurance coverage is because it DOUBLED in ONE year.  I called on December 30, 2002 and spoke with Debbie from Customer Service to cancel my health insurance, THREE days before they should have taken the premium out of my account, she told me the draft had already left their office FOUR days before it was to come out of my account.  I told her the money wasn't in there.  I'll make a note of that, she said.  Who would know they sent the draft from their office almost a WEEK before it was to come out?  They could send it out of their office a month before and I wouldn't know.  It is not in their policy how early they send it out.  Around the 9th, I called and spoke to Vicki, a Supervisor, to see if they would reimburse me the $25 NSF fee they caused me and she told me basically that I was out of luck.  Then, they tried to take it out of my account AGAIN on January 13th.  Which caused the bank to charge me another $25 NSF fee.  When I called again on the 15th to complain, I spoke with Melissa from Customer Service and she told me they had no record of trying to draft the money again.  I faxed them the information that they HAD indeed tried and a letter, letting them know how I wanted it taken care of and they never returned my call.  I called the bank and put a stop payment, which cost me ANOTHER $25, on the amount so they couldn't cause me anymore NSF fees.  I called them again the next day and spoke with Marsha from Customer Service, she proceeded to tell me that wasn't their policy to refund charges they CAUSE!  I am willing to eat the $25 stop payment, just so they can't continue to compound NSF fees.  But I do expect to be reimubrsed by the company the $50 for NSF fees they caused.  I can't help but wonder, had I been a satisfied customer calling them to ask them to delay the draft because the money would be late instead of an unhappy customer calling to cancel my health insurance, if the things would have turned out differently.It cost me $75 to cancel my health insurance coverage.   \n",
              "\n",
              "            Date  \n",
              "0     2023-05-11  \n",
              "1     2023-04-22  \n",
              "2     2022-10-28  \n",
              "3     2022-10-12  \n",
              "4     2022-09-01  \n",
              "...          ...  \n",
              "10761 2006-08-01  \n",
              "10762 2006-01-29  \n",
              "10763 2005-08-26  \n",
              "10764 2005-08-02  \n",
              "10765 2003-01-17  \n",
              "\n",
              "[10766 rows x 3 columns]"
            ],
            "text/html": [
              "\n",
              "  <div id=\"df-ecd5631c-888c-4527-b115-8797b64d8461\">\n",
              "    <div class=\"colab-df-container\">\n",
              "      <div>\n",
              "<style scoped>\n",
              "    .dataframe tbody tr th:only-of-type {\n",
              "        vertical-align: middle;\n",
              "    }\n",
              "\n",
              "    .dataframe tbody tr th {\n",
              "        vertical-align: top;\n",
              "    }\n",
              "\n",
              "    .dataframe thead th {\n",
              "        text-align: right;\n",
              "    }\n",
              "</style>\n",
              "<table border=\"1\" class=\"dataframe\">\n",
              "  <thead>\n",
              "    <tr style=\"text-align: right;\">\n",
              "      <th></th>\n",
              "      <th>CompanyName</th>\n",
              "      <th>Review</th>\n",
              "      <th>Date</th>\n",
              "    </tr>\n",
              "  </thead>\n",
              "  <tbody>\n",
              "    <tr>\n",
              "      <th>0</th>\n",
              "      <td>united_american</td>\n",
              "      <td>I've been with United American Insurance for lots of years and I just pay my bill every month. Once a year, I get a letter that they're increasing their rates, which I would prefer they didn't, but I can understand that it has to. A lot of my friends have HMOs but I like that with my insurance, I can go to whichever doctor I want. I've not had one doctor say they don't accept this insurance. Whatever Medicare paid, United American Insurance paid the other 20%. I am pleased with the service I'm getting, where everything is covered and the choices are mine. Others have to go for a second opinion but I don't. If I feel I need to see a special doctor, I can make an appointment and go. So, the flexibility is worth the money.</td>\n",
              "      <td>2023-05-11</td>\n",
              "    </tr>\n",
              "    <tr>\n",
              "      <th>1</th>\n",
              "      <td>united_american</td>\n",
              "      <td>United American has been fantastic. We have had not one bit of trouble collecting or paying for anything at all. So, we're extremely happy. I've had a lot of illnesses so many times and when you had as much as I've had, you get canceled pretty quickly by other companies. But United have not questioned and they have been unbelievable. We are very fortunate to have gotten them. We pay quite a bit, but it's worth the cost. When I was very ill on sepsis and pancreatic stones, I was in the hospital for 15 days and they were no questions asked. In the last few years, I've had treatments for my breast cancer and there were no questions about that either.</td>\n",
              "      <td>2023-04-22</td>\n",
              "    </tr>\n",
              "    <tr>\n",
              "      <th>2</th>\n",
              "      <td>united_american</td>\n",
              "      <td>We've had very good luck with United American. We got it in 2001 and we have used it. My husband had open heart surgery quite a few years ago. Now, there was a discrepancy. I was just hospitalized from an accident on the farm here and we had a little problem, but it was more of the hospital. They kept saying I still owed $1,500. When we called United American, they said no, they had mailed a check. Somewhere, the check must have gotten lost, so they were going to rebill them again. But that was the only time that I had a problem. We're very satisfied with what we've got and our experience with it has been very good.</td>\n",
              "      <td>2022-10-28</td>\n",
              "    </tr>\n",
              "    <tr>\n",
              "      <th>3</th>\n",
              "      <td>united_american</td>\n",
              "      <td>We've had a United American Insurance policy for a long time, and the coverage has been excellent. It's like someone sweeping then someone picking up the filings with a magnet. It's very complete. We also get the mailings showing what has been paid. At one time, we had a rep, but I have never had to call customer service, because everything seemed to be always completed. Ever since we went on Medicare, we've enjoyed the service, and we've never had any reason to even contact anyone. UAI is fabulous, and I'd recommend it to anyone. It's not inexpensive, but when it comes right down to it, it's worth every penny. I just had some major surgery and I haven't seen a bill from it.</td>\n",
              "      <td>2022-10-12</td>\n",
              "    </tr>\n",
              "    <tr>\n",
              "      <th>4</th>\n",
              "      <td>united_american</td>\n",
              "      <td>We were with Cleveland Clinic and when they stopped taking HMO, United American Insurance was there to pick up the pieces. I've had them ever since and they've always been extremely good with me. When I asked them a question, they gave me an answer. They've been fair too and I have never had anybody question me. All this time, I've had three back surgeries and two other major surgeries. I've never had them deny a claim that I had to go back for. Sometimes United American Insurance is a little more expensive than HMO. But they have the same things as an HMO. I had to have my eyes examined and they do a refractory that insurances don't pay for. A gentleman went too and he had insurance for the eyes. He gave a card and was told, “We're sorry, we don't take that anymore because they don't pay their bills.” I have never had anyone tell me they wouldn't take United American Insurance.</td>\n",
              "      <td>2022-09-01</td>\n",
              "    </tr>\n",
              "    <tr>\n",
              "      <th>...</th>\n",
              "      <td>...</td>\n",
              "      <td>...</td>\n",
              "      <td>...</td>\n",
              "    </tr>\n",
              "    <tr>\n",
              "      <th>10761</th>\n",
              "      <td>american_republic</td>\n",
              "      <td>Abusive unexplained rate increases and unexplained discount reductions on high deductible MSA/HSA plans that my agent can't explain. He says the company rep hasn't called him back.I pay my ever increasing premiums, fund my HSA's and still wind up paying paying for virtually all my own medical care. I haven't had a complete physical in years and haven't met deductible in 2 years yet my rates are spiraling out of control in apparent conflict with the rate determination process in place at the time I enrolled.</td>\n",
              "      <td>2006-08-01</td>\n",
              "    </tr>\n",
              "    <tr>\n",
              "      <th>10762</th>\n",
              "      <td>american_republic</td>\n",
              "      <td>Despite a deductible of $4000 and a co-insurance of $5000, American Republic saw fit to increase my premium 56% from last year.  This comes on top of annual increases since 2003 of 27% and 34%.  I have never met my deductible and receive essentially nothing toward preventive care from this company.  I'm tired of supporting the medical costs of people who eat at McDonald's and smoke cigarettes.  I have cancelled this policy and, at 56 years old, am taking far less insurance, at one-third the cost, through AARP.  Although it is not major medical, I refuse to subsidize these companies who care very little about the health (other than financial) of their clients.</td>\n",
              "      <td>2006-01-29</td>\n",
              "    </tr>\n",
              "    <tr>\n",
              "      <th>10763</th>\n",
              "      <td>american_republic</td>\n",
              "      <td>I have 2 complaints against this company. We started out paying around 100.00 pr month for individual health for my husband. Within 2-3 years we got notice that it was going up to around 650.00. I called and was going to cancel when they assurred me that the increase was because this was an ancient policy. We took out another policy with them which has higher deductible and does not cover as much. The premium has more than doubled already and we have not had it a year yet. I know medical costs go up, but this is rediculous.The way I see it is that as soon as you are approved for a policy it becomes ancient.The pity of it is that my husband hardly uses it to begin with. It will be dropped the next time that I get notice of an increase!  My second complaint is with their privacy issue.Last year AR was billed for charges that were supposed to go to workers comp and when I tried to tell them, I could not speak with them.My husband filled out the form giving permission for them to discuss his case, they sent him a letter to confirm that it was his signature. Before it was over he had signed 3 forms and called to verify. Last month the recovery service called me and asked all sorts of questions about past claims, yet when I called yesterday to find out the calander year date, they could not discuss anything because they could not find a permission form. We have about pulled out our hair dealing with these people and their sorry customer service.I am basically an honest person , but privacy issues go two ways. If someone makes a mistake I cannot report it because they do not have permission to speak with me. I feel that this company is price gouging to begin with - most companies give you a year before raising rates and they don't double the premium every time. They also make it so difficult to deal with them that most people give up- which probably saves on claims again. We are shopping for insurance at the moment. I refuse to hand them 1/3 of my income for nothing. I intend to tell everyone I know and to post online in every venue I can what a lousy deal you get with this company and recommend that they go elsewhere.If malpractice suits could be brought against customer service at American Republic I would be a billionaire soon.</td>\n",
              "      <td>2005-08-26</td>\n",
              "    </tr>\n",
              "    <tr>\n",
              "      <th>10764</th>\n",
              "      <td>american_republic</td>\n",
              "      <td>We had insurance on both our sons, one who lives primarily in Boca Raton FL.  We were assured by the salesman, Dale, that the president of the company approved this.  Our son in Florida broke some ribs and went to the hospital and was informed that no doctor in south Fl was in American Republic's network.  He was not able to get treatment without paying himself, although we paid premiums to American Republic each month since December.  I emailed the company in early May and wrote to Mr Mikkelsen 3/31/5 and have never received a reply.  Now this salesman, Dale, is calling our son in Florida and threatening him - 5 times today, 8/2/5 and he has a record of each call.  The person who represents American Republic has threatened to hurt our son.  What can we do?Our son never received proper treatment for three broken ribs except for the most minor of treatment which meant he was unable to work for a few weeks and we had to pay his rent, and basically support him.  It is now August 2nd and he continues to have some discomfort.</td>\n",
              "      <td>2005-08-02</td>\n",
              "    </tr>\n",
              "    <tr>\n",
              "      <th>10765</th>\n",
              "      <td>american_republic</td>\n",
              "      <td>First off, the reason I cancelled this company's health insurance coverage is because it DOUBLED in ONE year.  I called on December 30, 2002 and spoke with Debbie from Customer Service to cancel my health insurance, THREE days before they should have taken the premium out of my account, she told me the draft had already left their office FOUR days before it was to come out of my account.  I told her the money wasn't in there.  I'll make a note of that, she said.  Who would know they sent the draft from their office almost a WEEK before it was to come out?  They could send it out of their office a month before and I wouldn't know.  It is not in their policy how early they send it out.  Around the 9th, I called and spoke to Vicki, a Supervisor, to see if they would reimburse me the $25 NSF fee they caused me and she told me basically that I was out of luck.  Then, they tried to take it out of my account AGAIN on January 13th.  Which caused the bank to charge me another $25 NSF fee.  When I called again on the 15th to complain, I spoke with Melissa from Customer Service and she told me they had no record of trying to draft the money again.  I faxed them the information that they HAD indeed tried and a letter, letting them know how I wanted it taken care of and they never returned my call.  I called the bank and put a stop payment, which cost me ANOTHER $25, on the amount so they couldn't cause me anymore NSF fees.  I called them again the next day and spoke with Marsha from Customer Service, she proceeded to tell me that wasn't their policy to refund charges they CAUSE!  I am willing to eat the $25 stop payment, just so they can't continue to compound NSF fees.  But I do expect to be reimubrsed by the company the $50 for NSF fees they caused.  I can't help but wonder, had I been a satisfied customer calling them to ask them to delay the draft because the money would be late instead of an unhappy customer calling to cancel my health insurance, if the things would have turned out differently.It cost me $75 to cancel my health insurance coverage.</td>\n",
              "      <td>2003-01-17</td>\n",
              "    </tr>\n",
              "  </tbody>\n",
              "</table>\n",
              "<p>10766 rows × 3 columns</p>\n",
              "</div>\n",
              "      <button class=\"colab-df-convert\" onclick=\"convertToInteractive('df-ecd5631c-888c-4527-b115-8797b64d8461')\"\n",
              "              title=\"Convert this dataframe to an interactive table.\"\n",
              "              style=\"display:none;\">\n",
              "        \n",
              "  <svg xmlns=\"http://www.w3.org/2000/svg\" height=\"24px\"viewBox=\"0 0 24 24\"\n",
              "       width=\"24px\">\n",
              "    <path d=\"M0 0h24v24H0V0z\" fill=\"none\"/>\n",
              "    <path d=\"M18.56 5.44l.94 2.06.94-2.06 2.06-.94-2.06-.94-.94-2.06-.94 2.06-2.06.94zm-11 1L8.5 8.5l.94-2.06 2.06-.94-2.06-.94L8.5 2.5l-.94 2.06-2.06.94zm10 10l.94 2.06.94-2.06 2.06-.94-2.06-.94-.94-2.06-.94 2.06-2.06.94z\"/><path d=\"M17.41 7.96l-1.37-1.37c-.4-.4-.92-.59-1.43-.59-.52 0-1.04.2-1.43.59L10.3 9.45l-7.72 7.72c-.78.78-.78 2.05 0 2.83L4 21.41c.39.39.9.59 1.41.59.51 0 1.02-.2 1.41-.59l7.78-7.78 2.81-2.81c.8-.78.8-2.07 0-2.86zM5.41 20L4 18.59l7.72-7.72 1.47 1.35L5.41 20z\"/>\n",
              "  </svg>\n",
              "      </button>\n",
              "      \n",
              "  <style>\n",
              "    .colab-df-container {\n",
              "      display:flex;\n",
              "      flex-wrap:wrap;\n",
              "      gap: 12px;\n",
              "    }\n",
              "\n",
              "    .colab-df-convert {\n",
              "      background-color: #E8F0FE;\n",
              "      border: none;\n",
              "      border-radius: 50%;\n",
              "      cursor: pointer;\n",
              "      display: none;\n",
              "      fill: #1967D2;\n",
              "      height: 32px;\n",
              "      padding: 0 0 0 0;\n",
              "      width: 32px;\n",
              "    }\n",
              "\n",
              "    .colab-df-convert:hover {\n",
              "      background-color: #E2EBFA;\n",
              "      box-shadow: 0px 1px 2px rgba(60, 64, 67, 0.3), 0px 1px 3px 1px rgba(60, 64, 67, 0.15);\n",
              "      fill: #174EA6;\n",
              "    }\n",
              "\n",
              "    [theme=dark] .colab-df-convert {\n",
              "      background-color: #3B4455;\n",
              "      fill: #D2E3FC;\n",
              "    }\n",
              "\n",
              "    [theme=dark] .colab-df-convert:hover {\n",
              "      background-color: #434B5C;\n",
              "      box-shadow: 0px 1px 3px 1px rgba(0, 0, 0, 0.15);\n",
              "      filter: drop-shadow(0px 1px 2px rgba(0, 0, 0, 0.3));\n",
              "      fill: #FFFFFF;\n",
              "    }\n",
              "  </style>\n",
              "\n",
              "      <script>\n",
              "        const buttonEl =\n",
              "          document.querySelector('#df-ecd5631c-888c-4527-b115-8797b64d8461 button.colab-df-convert');\n",
              "        buttonEl.style.display =\n",
              "          google.colab.kernel.accessAllowed ? 'block' : 'none';\n",
              "\n",
              "        async function convertToInteractive(key) {\n",
              "          const element = document.querySelector('#df-ecd5631c-888c-4527-b115-8797b64d8461');\n",
              "          const dataTable =\n",
              "            await google.colab.kernel.invokeFunction('convertToInteractive',\n",
              "                                                     [key], {});\n",
              "          if (!dataTable) return;\n",
              "\n",
              "          const docLinkHtml = 'Like what you see? Visit the ' +\n",
              "            '<a target=\"_blank\" href=https://colab.research.google.com/notebooks/data_table.ipynb>data table notebook</a>'\n",
              "            + ' to learn more about interactive tables.';\n",
              "          element.innerHTML = '';\n",
              "          dataTable['output_type'] = 'display_data';\n",
              "          await google.colab.output.renderOutput(dataTable, element);\n",
              "          const docLink = document.createElement('div');\n",
              "          docLink.innerHTML = docLinkHtml;\n",
              "          element.appendChild(docLink);\n",
              "        }\n",
              "      </script>\n",
              "    </div>\n",
              "  </div>\n",
              "  "
            ]
          },
          "metadata": {},
          "execution_count": 34
        }
      ]
    },
    {
      "cell_type": "markdown",
      "source": [
        "## Ownership Type"
      ],
      "metadata": {
        "id": "JnVAXigOuqcN"
      }
    },
    {
      "cell_type": "markdown",
      "source": [
        "Let's add our new feature.\n",
        "\n",
        "As of 05/08/2023:\n",
        "\n",
        "* united_health_care: Public\n",
        "* humana: Public\n",
        "* kaiser: Private\n",
        "* cigna_health: Public\n",
        "* aetna_health: Public\n",
        "* bluecross: Private\n",
        "* anthem: Private\n",
        "* wellcare: Public\n",
        "* health_net: Public\n",
        "* united_american: Public\n",
        "* aarp_health: Non-profit\n",
        "* amerihealth: Private\n",
        "* carefirst: Non-profit\n",
        "* ihc_health_solutions: Non-profit\n",
        "* highmark: Non-profit\n",
        "* american_republic: Private\n"
      ],
      "metadata": {
        "id": "A7BsDz3PdS0V"
      }
    },
    {
      "cell_type": "code",
      "source": [
        "#create ownership type(private, public, non-profit)\n",
        "ownership_lst = []\n",
        "\n",
        "for i in reviews_df_clean['CompanyName']:\n",
        "  match i:\n",
        "    case 'united_health_care':\n",
        "      ownership_lst.append('Public')\n",
        "    case 'humana':\n",
        "      ownership_lst.append('Public')\n",
        "    case 'cigna_health':\n",
        "      ownership_lst.append('Public')\n",
        "    case 'aetna_health':\n",
        "      ownership_lst.append('Public')\n",
        "    case 'wellcare':\n",
        "      ownership_lst.append('Public')\n",
        "    case 'health_net':\n",
        "      ownership_lst.append('Public')\n",
        "    case 'united_american':\n",
        "      ownership_lst.append('Public')\n",
        "    case 'kaiser':\n",
        "      ownership_lst.append('Private')\n",
        "    case 'bluecross':\n",
        "      ownership_lst.append('Private')\n",
        "    case 'anthem':\n",
        "      ownership_lst.append('Private')\n",
        "    case 'amerihealth':\n",
        "      ownership_lst.append('Private')\n",
        "    case 'american_republic':\n",
        "      ownership_lst.append('Private')\n",
        "    case 'aarp_health':\n",
        "      ownership_lst.append('Non-Profit')\n",
        "    case 'carefirst':\n",
        "      ownership_lst.append('Non-Profit')\n",
        "    case 'ihc_health_solutions':\n",
        "      ownership_lst.append('Non-Profit')\n",
        "    case 'highmark':\n",
        "      ownership_lst.append('Non-Profit')\n",
        "    case _:\n",
        "      pass\n",
        "\n",
        "len(ownership_lst)"
      ],
      "metadata": {
        "id": "PJo1f6zwozgx",
        "colab": {
          "base_uri": "https://localhost:8080/"
        },
        "outputId": "ab488414-057e-4798-e9ff-588cd6a05ec0"
      },
      "execution_count": null,
      "outputs": [
        {
          "output_type": "execute_result",
          "data": {
            "text/plain": [
              "10766"
            ]
          },
          "metadata": {},
          "execution_count": 35
        }
      ]
    },
    {
      "cell_type": "code",
      "source": [
        "#add ownership type\n",
        "reviews_df_clean['OwnershipType'] = ownership_lst"
      ],
      "metadata": {
        "colab": {
          "base_uri": "https://localhost:8080/"
        },
        "id": "zWC90tAkZiU4",
        "outputId": "8e7c2983-437c-48a1-a2b8-705470df61f2"
      },
      "execution_count": null,
      "outputs": [
        {
          "output_type": "stream",
          "name": "stderr",
          "text": [
            "<ipython-input-36-69048617086e>:1: SettingWithCopyWarning: \n",
            "A value is trying to be set on a copy of a slice from a DataFrame.\n",
            "Try using .loc[row_indexer,col_indexer] = value instead\n",
            "\n",
            "See the caveats in the documentation: https://pandas.pydata.org/pandas-docs/stable/user_guide/indexing.html#returning-a-view-versus-a-copy\n",
            "  reviews_df_clean['OwnershipType'] = ownership_lst\n"
          ]
        }
      ]
    },
    {
      "cell_type": "code",
      "source": [
        "#new column\n",
        "reviews_df_clean.info()"
      ],
      "metadata": {
        "colab": {
          "base_uri": "https://localhost:8080/"
        },
        "id": "gEwKT-5kcdUF",
        "outputId": "eec17f47-8fb9-43db-82e3-4f4aa5049c75"
      },
      "execution_count": null,
      "outputs": [
        {
          "output_type": "stream",
          "name": "stdout",
          "text": [
            "<class 'pandas.core.frame.DataFrame'>\n",
            "Int64Index: 10766 entries, 0 to 10765\n",
            "Data columns (total 4 columns):\n",
            " #   Column         Non-Null Count  Dtype         \n",
            "---  ------         --------------  -----         \n",
            " 0   CompanyName    10766 non-null  object        \n",
            " 1   Review         10766 non-null  object        \n",
            " 2   Date           10766 non-null  datetime64[ns]\n",
            " 3   OwnershipType  10766 non-null  object        \n",
            "dtypes: datetime64[ns](1), object(3)\n",
            "memory usage: 420.5+ KB\n"
          ]
        }
      ]
    },
    {
      "cell_type": "code",
      "source": [
        "#preview with new column\n",
        "reviews_df_clean.head()"
      ],
      "metadata": {
        "colab": {
          "base_uri": "https://localhost:8080/",
          "height": 1000
        },
        "id": "bv4Jz39Dce6F",
        "outputId": "a5c34bc4-cbd1-484b-cf66-328973c02465"
      },
      "execution_count": null,
      "outputs": [
        {
          "output_type": "execute_result",
          "data": {
            "text/plain": [
              "             CompanyName  \\\n",
              "0        united_american   \n",
              "1        united_american   \n",
              "2        united_american   \n",
              "3        united_american   \n",
              "4        united_american   \n",
              "...                  ...   \n",
              "10761  american_republic   \n",
              "10762  american_republic   \n",
              "10763  american_republic   \n",
              "10764  american_republic   \n",
              "10765  american_republic   \n",
              "\n",
              "                                                                                                                                                                                                                                                                                                                                                                                                                                                                                                                                                                                                                                                                                                                                                                                                                                                                                                                                                                                                                                                                                                                                                                                                                                                                                                                                                                                                                                                                                                                                                                                                                                                                                                                                                                                                                                                                                                                                                                                                                                                                                                                                                                                                                                                                                                                                                        Review  \\\n",
              "0                                                                                                                                                                                                                                                                                                                                                                                                                                                                                                                                                                                                                                                                                                                                                                                                                                                                                                                                                                                                                                                                                                                                                                                                                                                                                                                                                                                                                                                                                                                                                                                                    I've been with United American Insurance for lots of years and I just pay my bill every month. Once a year, I get a letter that they're increasing their rates, which I would prefer they didn't, but I can understand that it has to. A lot of my friends have HMOs but I like that with my insurance, I can go to whichever doctor I want. I've not had one doctor say they don't accept this insurance. Whatever Medicare paid, United American Insurance paid the other 20%. I am pleased with the service I'm getting, where everything is covered and the choices are mine. Others have to go for a second opinion but I don't. If I feel I need to see a special doctor, I can make an appointment and go. So, the flexibility is worth the money.   \n",
              "1                                                                                                                                                                                                                                                                                                                                                                                                                                                                                                                                                                                                                                                                                                                                                                                                                                                                                                                                                                                                                                                                                                                                                                                                                                                                                                                                                                                                                                                                                                                                                                                                                                                                              United American has been fantastic. We have had not one bit of trouble collecting or paying for anything at all. So, we're extremely happy. I've had a lot of illnesses so many times and when you had as much as I've had, you get canceled pretty quickly by other companies. But United have not questioned and they have been unbelievable. We are very fortunate to have gotten them. We pay quite a bit, but it's worth the cost. When I was very ill on sepsis and pancreatic stones, I was in the hospital for 15 days and they were no questions asked. In the last few years, I've had treatments for my breast cancer and there were no questions about that either.   \n",
              "2                                                                                                                                                                                                                                                                                                                                                                                                                                                                                                                                                                                                                                                                                                                                                                                                                                                                                                                                                                                                                                                                                                                                                                                                                                                                                                                                                                                                                                                                                                                                                                                                                                                                                                              We've had very good luck with United American. We got it in 2001 and we have used it. My husband had open heart surgery quite a few years ago. Now, there was a discrepancy. I was just hospitalized from an accident on the farm here and we had a little problem, but it was more of the hospital. They kept saying I still owed $1,500. When we called United American, they said no, they had mailed a check. Somewhere, the check must have gotten lost, so they were going to rebill them again. But that was the only time that I had a problem. We're very satisfied with what we've got and our experience with it has been very good.   \n",
              "3                                                                                                                                                                                                                                                                                                                                                                                                                                                                                                                                                                                                                                                                                                                                                                                                                                                                                                                                                                                                                                                                                                                                                                                                                                                                                                                                                                                                                                                                                                                                                                                                                                                  We've had a United American Insurance policy for a long time, and the coverage has been excellent. It's like someone sweeping then someone picking up the filings with a magnet. It's very complete. We also get the mailings showing what has been paid. At one time, we had a rep, but I have never had to call customer service, because everything seemed to be always completed. Ever since we went on Medicare, we've enjoyed the service, and we've never had any reason to even contact anyone. UAI is fabulous, and I'd recommend it to anyone. It's not inexpensive, but when it comes right down to it, it's worth every penny. I just had some major surgery and I haven't seen a bill from it.   \n",
              "4                                                                                                                                                                                                                                                                                                                                                                                                                                                                                                                                                                                                                                                                                                                                                                                                                                                                                                                                                                                                                                                                                                                                                                                                                                                                                                                                                                                                                                  We were with Cleveland Clinic and when they stopped taking HMO, United American Insurance was there to pick up the pieces. I've had them ever since and they've always been extremely good with me. When I asked them a question, they gave me an answer. They've been fair too and I have never had anybody question me. All this time, I've had three back surgeries and two other major surgeries. I've never had them deny a claim that I had to go back for. Sometimes United American Insurance is a little more expensive than HMO. But they have the same things as an HMO. I had to have my eyes examined and they do a refractory that insurances don't pay for. A gentleman went too and he had insurance for the eyes. He gave a card and was told, “We're sorry, we don't take that anymore because they don't pay their bills.” I have never had anyone tell me they wouldn't take United American Insurance.   \n",
              "...                                                                                                                                                                                                                                                                                                                                                                                                                                                                                                                                                                                                                                                                                                                                                                                                                                                                                                                                                                                                                                                                                                                                                                                                                                                                                                                                                                                                                                                                                                                                                                                                                                                                                                                                                                                                                                                                                                                                                                                                                                                                                                                                                                                                                                                                                                                                                        ...   \n",
              "10761                                                                                                                                                                                                                                                                                                                                                                                                                                                                                                                                                                                                                                                                                                                                                                                                                                                                                                                                                                                                                                                                                                                                                                                                                                                                                                                                                                                                                                                                                                                                                                                                                                                                                                                                                                                                                         Abusive unexplained rate increases and unexplained discount reductions on high deductible MSA/HSA plans that my agent can't explain. He says the company rep hasn't called him back.I pay my ever increasing premiums, fund my HSA's and still wind up paying paying for virtually all my own medical care. I haven't had a complete physical in years and haven't met deductible in 2 years yet my rates are spiraling out of control in apparent conflict with the rate determination process in place at the time I enrolled.   \n",
              "10762                                                                                                                                                                                                                                                                                                                                                                                                                                                                                                                                                                                                                                                                                                                                                                                                                                                                                                                                                                                                                                                                                                                                                                                                                                                                                                                                                                                                                                                                                                                                                                                                                                                              Despite a deductible of $4000 and a co-insurance of $5000, American Republic saw fit to increase my premium 56% from last year.  This comes on top of annual increases since 2003 of 27% and 34%.  I have never met my deductible and receive essentially nothing toward preventive care from this company.  I'm tired of supporting the medical costs of people who eat at McDonald's and smoke cigarettes.  I have cancelled this policy and, at 56 years old, am taking far less insurance, at one-third the cost, through AARP.  Although it is not major medical, I refuse to subsidize these companies who care very little about the health (other than financial) of their clients.   \n",
              "10763  I have 2 complaints against this company. We started out paying around 100.00 pr month for individual health for my husband. Within 2-3 years we got notice that it was going up to around 650.00. I called and was going to cancel when they assurred me that the increase was because this was an ancient policy. We took out another policy with them which has higher deductible and does not cover as much. The premium has more than doubled already and we have not had it a year yet. I know medical costs go up, but this is rediculous.The way I see it is that as soon as you are approved for a policy it becomes ancient.The pity of it is that my husband hardly uses it to begin with. It will be dropped the next time that I get notice of an increase!  My second complaint is with their privacy issue.Last year AR was billed for charges that were supposed to go to workers comp and when I tried to tell them, I could not speak with them.My husband filled out the form giving permission for them to discuss his case, they sent him a letter to confirm that it was his signature. Before it was over he had signed 3 forms and called to verify. Last month the recovery service called me and asked all sorts of questions about past claims, yet when I called yesterday to find out the calander year date, they could not discuss anything because they could not find a permission form. We have about pulled out our hair dealing with these people and their sorry customer service.I am basically an honest person , but privacy issues go two ways. If someone makes a mistake I cannot report it because they do not have permission to speak with me. I feel that this company is price gouging to begin with - most companies give you a year before raising rates and they don't double the premium every time. They also make it so difficult to deal with them that most people give up- which probably saves on claims again. We are shopping for insurance at the moment. I refuse to hand them 1/3 of my income for nothing. I intend to tell everyone I know and to post online in every venue I can what a lousy deal you get with this company and recommend that they go elsewhere.If malpractice suits could be brought against customer service at American Republic I would be a billionaire soon.   \n",
              "10764                                                                                                                                                                                                                                                                                                                                                                                                                                                                                                                                                                                                                                                                                                                                                                                                                                                                                                                                                                                                                                                                                                                                                                                                                                                                             We had insurance on both our sons, one who lives primarily in Boca Raton FL.  We were assured by the salesman, Dale, that the president of the company approved this.  Our son in Florida broke some ribs and went to the hospital and was informed that no doctor in south Fl was in American Republic's network.  He was not able to get treatment without paying himself, although we paid premiums to American Republic each month since December.  I emailed the company in early May and wrote to Mr Mikkelsen 3/31/5 and have never received a reply.  Now this salesman, Dale, is calling our son in Florida and threatening him - 5 times today, 8/2/5 and he has a record of each call.  The person who represents American Republic has threatened to hurt our son.  What can we do?Our son never received proper treatment for three broken ribs except for the most minor of treatment which meant he was unable to work for a few weeks and we had to pay his rent, and basically support him.  It is now August 2nd and he continues to have some discomfort.   \n",
              "10765                                                                                                                                                                                             First off, the reason I cancelled this company's health insurance coverage is because it DOUBLED in ONE year.  I called on December 30, 2002 and spoke with Debbie from Customer Service to cancel my health insurance, THREE days before they should have taken the premium out of my account, she told me the draft had already left their office FOUR days before it was to come out of my account.  I told her the money wasn't in there.  I'll make a note of that, she said.  Who would know they sent the draft from their office almost a WEEK before it was to come out?  They could send it out of their office a month before and I wouldn't know.  It is not in their policy how early they send it out.  Around the 9th, I called and spoke to Vicki, a Supervisor, to see if they would reimburse me the $25 NSF fee they caused me and she told me basically that I was out of luck.  Then, they tried to take it out of my account AGAIN on January 13th.  Which caused the bank to charge me another $25 NSF fee.  When I called again on the 15th to complain, I spoke with Melissa from Customer Service and she told me they had no record of trying to draft the money again.  I faxed them the information that they HAD indeed tried and a letter, letting them know how I wanted it taken care of and they never returned my call.  I called the bank and put a stop payment, which cost me ANOTHER $25, on the amount so they couldn't cause me anymore NSF fees.  I called them again the next day and spoke with Marsha from Customer Service, she proceeded to tell me that wasn't their policy to refund charges they CAUSE!  I am willing to eat the $25 stop payment, just so they can't continue to compound NSF fees.  But I do expect to be reimubrsed by the company the $50 for NSF fees they caused.  I can't help but wonder, had I been a satisfied customer calling them to ask them to delay the draft because the money would be late instead of an unhappy customer calling to cancel my health insurance, if the things would have turned out differently.It cost me $75 to cancel my health insurance coverage.   \n",
              "\n",
              "            Date OwnershipType  \n",
              "0     2023-05-11        Public  \n",
              "1     2023-04-22        Public  \n",
              "2     2022-10-28        Public  \n",
              "3     2022-10-12        Public  \n",
              "4     2022-09-01        Public  \n",
              "...          ...           ...  \n",
              "10761 2006-08-01       Private  \n",
              "10762 2006-01-29       Private  \n",
              "10763 2005-08-26       Private  \n",
              "10764 2005-08-02       Private  \n",
              "10765 2003-01-17       Private  \n",
              "\n",
              "[10766 rows x 4 columns]"
            ],
            "text/html": [
              "\n",
              "  <div id=\"df-4b9a44d9-a182-4c7e-ae61-192d9112d656\">\n",
              "    <div class=\"colab-df-container\">\n",
              "      <div>\n",
              "<style scoped>\n",
              "    .dataframe tbody tr th:only-of-type {\n",
              "        vertical-align: middle;\n",
              "    }\n",
              "\n",
              "    .dataframe tbody tr th {\n",
              "        vertical-align: top;\n",
              "    }\n",
              "\n",
              "    .dataframe thead th {\n",
              "        text-align: right;\n",
              "    }\n",
              "</style>\n",
              "<table border=\"1\" class=\"dataframe\">\n",
              "  <thead>\n",
              "    <tr style=\"text-align: right;\">\n",
              "      <th></th>\n",
              "      <th>CompanyName</th>\n",
              "      <th>Review</th>\n",
              "      <th>Date</th>\n",
              "      <th>OwnershipType</th>\n",
              "    </tr>\n",
              "  </thead>\n",
              "  <tbody>\n",
              "    <tr>\n",
              "      <th>0</th>\n",
              "      <td>united_american</td>\n",
              "      <td>I've been with United American Insurance for lots of years and I just pay my bill every month. Once a year, I get a letter that they're increasing their rates, which I would prefer they didn't, but I can understand that it has to. A lot of my friends have HMOs but I like that with my insurance, I can go to whichever doctor I want. I've not had one doctor say they don't accept this insurance. Whatever Medicare paid, United American Insurance paid the other 20%. I am pleased with the service I'm getting, where everything is covered and the choices are mine. Others have to go for a second opinion but I don't. If I feel I need to see a special doctor, I can make an appointment and go. So, the flexibility is worth the money.</td>\n",
              "      <td>2023-05-11</td>\n",
              "      <td>Public</td>\n",
              "    </tr>\n",
              "    <tr>\n",
              "      <th>1</th>\n",
              "      <td>united_american</td>\n",
              "      <td>United American has been fantastic. We have had not one bit of trouble collecting or paying for anything at all. So, we're extremely happy. I've had a lot of illnesses so many times and when you had as much as I've had, you get canceled pretty quickly by other companies. But United have not questioned and they have been unbelievable. We are very fortunate to have gotten them. We pay quite a bit, but it's worth the cost. When I was very ill on sepsis and pancreatic stones, I was in the hospital for 15 days and they were no questions asked. In the last few years, I've had treatments for my breast cancer and there were no questions about that either.</td>\n",
              "      <td>2023-04-22</td>\n",
              "      <td>Public</td>\n",
              "    </tr>\n",
              "    <tr>\n",
              "      <th>2</th>\n",
              "      <td>united_american</td>\n",
              "      <td>We've had very good luck with United American. We got it in 2001 and we have used it. My husband had open heart surgery quite a few years ago. Now, there was a discrepancy. I was just hospitalized from an accident on the farm here and we had a little problem, but it was more of the hospital. They kept saying I still owed $1,500. When we called United American, they said no, they had mailed a check. Somewhere, the check must have gotten lost, so they were going to rebill them again. But that was the only time that I had a problem. We're very satisfied with what we've got and our experience with it has been very good.</td>\n",
              "      <td>2022-10-28</td>\n",
              "      <td>Public</td>\n",
              "    </tr>\n",
              "    <tr>\n",
              "      <th>3</th>\n",
              "      <td>united_american</td>\n",
              "      <td>We've had a United American Insurance policy for a long time, and the coverage has been excellent. It's like someone sweeping then someone picking up the filings with a magnet. It's very complete. We also get the mailings showing what has been paid. At one time, we had a rep, but I have never had to call customer service, because everything seemed to be always completed. Ever since we went on Medicare, we've enjoyed the service, and we've never had any reason to even contact anyone. UAI is fabulous, and I'd recommend it to anyone. It's not inexpensive, but when it comes right down to it, it's worth every penny. I just had some major surgery and I haven't seen a bill from it.</td>\n",
              "      <td>2022-10-12</td>\n",
              "      <td>Public</td>\n",
              "    </tr>\n",
              "    <tr>\n",
              "      <th>4</th>\n",
              "      <td>united_american</td>\n",
              "      <td>We were with Cleveland Clinic and when they stopped taking HMO, United American Insurance was there to pick up the pieces. I've had them ever since and they've always been extremely good with me. When I asked them a question, they gave me an answer. They've been fair too and I have never had anybody question me. All this time, I've had three back surgeries and two other major surgeries. I've never had them deny a claim that I had to go back for. Sometimes United American Insurance is a little more expensive than HMO. But they have the same things as an HMO. I had to have my eyes examined and they do a refractory that insurances don't pay for. A gentleman went too and he had insurance for the eyes. He gave a card and was told, “We're sorry, we don't take that anymore because they don't pay their bills.” I have never had anyone tell me they wouldn't take United American Insurance.</td>\n",
              "      <td>2022-09-01</td>\n",
              "      <td>Public</td>\n",
              "    </tr>\n",
              "    <tr>\n",
              "      <th>...</th>\n",
              "      <td>...</td>\n",
              "      <td>...</td>\n",
              "      <td>...</td>\n",
              "      <td>...</td>\n",
              "    </tr>\n",
              "    <tr>\n",
              "      <th>10761</th>\n",
              "      <td>american_republic</td>\n",
              "      <td>Abusive unexplained rate increases and unexplained discount reductions on high deductible MSA/HSA plans that my agent can't explain. He says the company rep hasn't called him back.I pay my ever increasing premiums, fund my HSA's and still wind up paying paying for virtually all my own medical care. I haven't had a complete physical in years and haven't met deductible in 2 years yet my rates are spiraling out of control in apparent conflict with the rate determination process in place at the time I enrolled.</td>\n",
              "      <td>2006-08-01</td>\n",
              "      <td>Private</td>\n",
              "    </tr>\n",
              "    <tr>\n",
              "      <th>10762</th>\n",
              "      <td>american_republic</td>\n",
              "      <td>Despite a deductible of $4000 and a co-insurance of $5000, American Republic saw fit to increase my premium 56% from last year.  This comes on top of annual increases since 2003 of 27% and 34%.  I have never met my deductible and receive essentially nothing toward preventive care from this company.  I'm tired of supporting the medical costs of people who eat at McDonald's and smoke cigarettes.  I have cancelled this policy and, at 56 years old, am taking far less insurance, at one-third the cost, through AARP.  Although it is not major medical, I refuse to subsidize these companies who care very little about the health (other than financial) of their clients.</td>\n",
              "      <td>2006-01-29</td>\n",
              "      <td>Private</td>\n",
              "    </tr>\n",
              "    <tr>\n",
              "      <th>10763</th>\n",
              "      <td>american_republic</td>\n",
              "      <td>I have 2 complaints against this company. We started out paying around 100.00 pr month for individual health for my husband. Within 2-3 years we got notice that it was going up to around 650.00. I called and was going to cancel when they assurred me that the increase was because this was an ancient policy. We took out another policy with them which has higher deductible and does not cover as much. The premium has more than doubled already and we have not had it a year yet. I know medical costs go up, but this is rediculous.The way I see it is that as soon as you are approved for a policy it becomes ancient.The pity of it is that my husband hardly uses it to begin with. It will be dropped the next time that I get notice of an increase!  My second complaint is with their privacy issue.Last year AR was billed for charges that were supposed to go to workers comp and when I tried to tell them, I could not speak with them.My husband filled out the form giving permission for them to discuss his case, they sent him a letter to confirm that it was his signature. Before it was over he had signed 3 forms and called to verify. Last month the recovery service called me and asked all sorts of questions about past claims, yet when I called yesterday to find out the calander year date, they could not discuss anything because they could not find a permission form. We have about pulled out our hair dealing with these people and their sorry customer service.I am basically an honest person , but privacy issues go two ways. If someone makes a mistake I cannot report it because they do not have permission to speak with me. I feel that this company is price gouging to begin with - most companies give you a year before raising rates and they don't double the premium every time. They also make it so difficult to deal with them that most people give up- which probably saves on claims again. We are shopping for insurance at the moment. I refuse to hand them 1/3 of my income for nothing. I intend to tell everyone I know and to post online in every venue I can what a lousy deal you get with this company and recommend that they go elsewhere.If malpractice suits could be brought against customer service at American Republic I would be a billionaire soon.</td>\n",
              "      <td>2005-08-26</td>\n",
              "      <td>Private</td>\n",
              "    </tr>\n",
              "    <tr>\n",
              "      <th>10764</th>\n",
              "      <td>american_republic</td>\n",
              "      <td>We had insurance on both our sons, one who lives primarily in Boca Raton FL.  We were assured by the salesman, Dale, that the president of the company approved this.  Our son in Florida broke some ribs and went to the hospital and was informed that no doctor in south Fl was in American Republic's network.  He was not able to get treatment without paying himself, although we paid premiums to American Republic each month since December.  I emailed the company in early May and wrote to Mr Mikkelsen 3/31/5 and have never received a reply.  Now this salesman, Dale, is calling our son in Florida and threatening him - 5 times today, 8/2/5 and he has a record of each call.  The person who represents American Republic has threatened to hurt our son.  What can we do?Our son never received proper treatment for three broken ribs except for the most minor of treatment which meant he was unable to work for a few weeks and we had to pay his rent, and basically support him.  It is now August 2nd and he continues to have some discomfort.</td>\n",
              "      <td>2005-08-02</td>\n",
              "      <td>Private</td>\n",
              "    </tr>\n",
              "    <tr>\n",
              "      <th>10765</th>\n",
              "      <td>american_republic</td>\n",
              "      <td>First off, the reason I cancelled this company's health insurance coverage is because it DOUBLED in ONE year.  I called on December 30, 2002 and spoke with Debbie from Customer Service to cancel my health insurance, THREE days before they should have taken the premium out of my account, she told me the draft had already left their office FOUR days before it was to come out of my account.  I told her the money wasn't in there.  I'll make a note of that, she said.  Who would know they sent the draft from their office almost a WEEK before it was to come out?  They could send it out of their office a month before and I wouldn't know.  It is not in their policy how early they send it out.  Around the 9th, I called and spoke to Vicki, a Supervisor, to see if they would reimburse me the $25 NSF fee they caused me and she told me basically that I was out of luck.  Then, they tried to take it out of my account AGAIN on January 13th.  Which caused the bank to charge me another $25 NSF fee.  When I called again on the 15th to complain, I spoke with Melissa from Customer Service and she told me they had no record of trying to draft the money again.  I faxed them the information that they HAD indeed tried and a letter, letting them know how I wanted it taken care of and they never returned my call.  I called the bank and put a stop payment, which cost me ANOTHER $25, on the amount so they couldn't cause me anymore NSF fees.  I called them again the next day and spoke with Marsha from Customer Service, she proceeded to tell me that wasn't their policy to refund charges they CAUSE!  I am willing to eat the $25 stop payment, just so they can't continue to compound NSF fees.  But I do expect to be reimubrsed by the company the $50 for NSF fees they caused.  I can't help but wonder, had I been a satisfied customer calling them to ask them to delay the draft because the money would be late instead of an unhappy customer calling to cancel my health insurance, if the things would have turned out differently.It cost me $75 to cancel my health insurance coverage.</td>\n",
              "      <td>2003-01-17</td>\n",
              "      <td>Private</td>\n",
              "    </tr>\n",
              "  </tbody>\n",
              "</table>\n",
              "<p>10766 rows × 4 columns</p>\n",
              "</div>\n",
              "      <button class=\"colab-df-convert\" onclick=\"convertToInteractive('df-4b9a44d9-a182-4c7e-ae61-192d9112d656')\"\n",
              "              title=\"Convert this dataframe to an interactive table.\"\n",
              "              style=\"display:none;\">\n",
              "        \n",
              "  <svg xmlns=\"http://www.w3.org/2000/svg\" height=\"24px\"viewBox=\"0 0 24 24\"\n",
              "       width=\"24px\">\n",
              "    <path d=\"M0 0h24v24H0V0z\" fill=\"none\"/>\n",
              "    <path d=\"M18.56 5.44l.94 2.06.94-2.06 2.06-.94-2.06-.94-.94-2.06-.94 2.06-2.06.94zm-11 1L8.5 8.5l.94-2.06 2.06-.94-2.06-.94L8.5 2.5l-.94 2.06-2.06.94zm10 10l.94 2.06.94-2.06 2.06-.94-2.06-.94-.94-2.06-.94 2.06-2.06.94z\"/><path d=\"M17.41 7.96l-1.37-1.37c-.4-.4-.92-.59-1.43-.59-.52 0-1.04.2-1.43.59L10.3 9.45l-7.72 7.72c-.78.78-.78 2.05 0 2.83L4 21.41c.39.39.9.59 1.41.59.51 0 1.02-.2 1.41-.59l7.78-7.78 2.81-2.81c.8-.78.8-2.07 0-2.86zM5.41 20L4 18.59l7.72-7.72 1.47 1.35L5.41 20z\"/>\n",
              "  </svg>\n",
              "      </button>\n",
              "      \n",
              "  <style>\n",
              "    .colab-df-container {\n",
              "      display:flex;\n",
              "      flex-wrap:wrap;\n",
              "      gap: 12px;\n",
              "    }\n",
              "\n",
              "    .colab-df-convert {\n",
              "      background-color: #E8F0FE;\n",
              "      border: none;\n",
              "      border-radius: 50%;\n",
              "      cursor: pointer;\n",
              "      display: none;\n",
              "      fill: #1967D2;\n",
              "      height: 32px;\n",
              "      padding: 0 0 0 0;\n",
              "      width: 32px;\n",
              "    }\n",
              "\n",
              "    .colab-df-convert:hover {\n",
              "      background-color: #E2EBFA;\n",
              "      box-shadow: 0px 1px 2px rgba(60, 64, 67, 0.3), 0px 1px 3px 1px rgba(60, 64, 67, 0.15);\n",
              "      fill: #174EA6;\n",
              "    }\n",
              "\n",
              "    [theme=dark] .colab-df-convert {\n",
              "      background-color: #3B4455;\n",
              "      fill: #D2E3FC;\n",
              "    }\n",
              "\n",
              "    [theme=dark] .colab-df-convert:hover {\n",
              "      background-color: #434B5C;\n",
              "      box-shadow: 0px 1px 3px 1px rgba(0, 0, 0, 0.15);\n",
              "      filter: drop-shadow(0px 1px 2px rgba(0, 0, 0, 0.3));\n",
              "      fill: #FFFFFF;\n",
              "    }\n",
              "  </style>\n",
              "\n",
              "      <script>\n",
              "        const buttonEl =\n",
              "          document.querySelector('#df-4b9a44d9-a182-4c7e-ae61-192d9112d656 button.colab-df-convert');\n",
              "        buttonEl.style.display =\n",
              "          google.colab.kernel.accessAllowed ? 'block' : 'none';\n",
              "\n",
              "        async function convertToInteractive(key) {\n",
              "          const element = document.querySelector('#df-4b9a44d9-a182-4c7e-ae61-192d9112d656');\n",
              "          const dataTable =\n",
              "            await google.colab.kernel.invokeFunction('convertToInteractive',\n",
              "                                                     [key], {});\n",
              "          if (!dataTable) return;\n",
              "\n",
              "          const docLinkHtml = 'Like what you see? Visit the ' +\n",
              "            '<a target=\"_blank\" href=https://colab.research.google.com/notebooks/data_table.ipynb>data table notebook</a>'\n",
              "            + ' to learn more about interactive tables.';\n",
              "          element.innerHTML = '';\n",
              "          dataTable['output_type'] = 'display_data';\n",
              "          await google.colab.output.renderOutput(dataTable, element);\n",
              "          const docLink = document.createElement('div');\n",
              "          docLink.innerHTML = docLinkHtml;\n",
              "          element.appendChild(docLink);\n",
              "        }\n",
              "      </script>\n",
              "    </div>\n",
              "  </div>\n",
              "  "
            ]
          },
          "metadata": {},
          "execution_count": 38
        }
      ]
    },
    {
      "cell_type": "markdown",
      "source": [
        "We've done quite a bit in just a few lines. We have webscraped reviews for several healthcare companies, cleaned the reviews to not include any foriegn characters nor emojis, attached company names and combined subsidiaries, cleaned the names, attached a date for every review, and added a type of ownership based off the company."
      ],
      "metadata": {
        "id": "jnRdPMbLda40"
      }
    },
    {
      "cell_type": "markdown",
      "source": [
        "## Review Length"
      ],
      "metadata": {
        "id": "uZgyHTSYu7_W"
      }
    },
    {
      "cell_type": "markdown",
      "source": [
        "Let's add review length to explore the relationship between sentiment and the size of the review."
      ],
      "metadata": {
        "id": "2EHmu6Q9qX02"
      }
    },
    {
      "cell_type": "code",
      "source": [
        "#add review length as column\n",
        "review_len = []\n",
        "\n",
        "for i in range(len(reviews_df_clean)):\n",
        "  review_len.append(len(reviews_df_clean.iloc[i, 1]))\n",
        "\n",
        "reviews_df_clean['ReviewLen'] = review_len\n",
        "\n",
        "reviews_df_clean.info()"
      ],
      "metadata": {
        "colab": {
          "base_uri": "https://localhost:8080/"
        },
        "id": "DGxpW9xUu7m5",
        "outputId": "093fad65-0f26-404d-becf-dd60a0320d4d"
      },
      "execution_count": null,
      "outputs": [
        {
          "output_type": "stream",
          "name": "stdout",
          "text": [
            "<class 'pandas.core.frame.DataFrame'>\n",
            "Int64Index: 10766 entries, 0 to 10765\n",
            "Data columns (total 6 columns):\n",
            " #   Column          Non-Null Count  Dtype         \n",
            "---  ------          --------------  -----         \n",
            " 0   CompanyName     10766 non-null  object        \n",
            " 1   Review          10766 non-null  object        \n",
            " 2   Date            10766 non-null  datetime64[ns]\n",
            " 3   OwnershipType   10766 non-null  object        \n",
            " 4   ReviewLen       10766 non-null  int64         \n",
            " 5   AvgSentenceLen  10766 non-null  float64       \n",
            "dtypes: datetime64[ns](1), float64(1), int64(1), object(3)\n",
            "memory usage: 588.8+ KB\n"
          ]
        }
      ]
    },
    {
      "cell_type": "code",
      "source": [
        "#preview data with new column\n",
        "reviews_df_clean.head()"
      ],
      "metadata": {
        "colab": {
          "base_uri": "https://localhost:8080/",
          "height": 1000
        },
        "id": "4wruAPSqv8N3",
        "outputId": "c10eae7e-2f19-4a3c-a18b-79ba058db941"
      },
      "execution_count": null,
      "outputs": [
        {
          "output_type": "execute_result",
          "data": {
            "text/plain": [
              "       CompanyName  \\\n",
              "0  united_american   \n",
              "1  united_american   \n",
              "2  united_american   \n",
              "3  united_american   \n",
              "4  united_american   \n",
              "\n",
              "                                                                                                                                                                                                                                                                                                                                                                                                                                                                                                                                                                                                                                                                                                                                                                                                                                                                                                                        Review  \\\n",
              "0                                                                                                                                                                    I've been with United American Insurance for lots of years and I just pay my bill every month. Once a year, I get a letter that they're increasing their rates, which I would prefer they didn't, but I can understand that it has to. A lot of my friends have HMOs but I like that with my insurance, I can go to whichever doctor I want. I've not had one doctor say they don't accept this insurance. Whatever Medicare paid, United American Insurance paid the other 20%. I am pleased with the service I'm getting, where everything is covered and the choices are mine. Others have to go for a second opinion but I don't. If I feel I need to see a special doctor, I can make an appointment and go. So, the flexibility is worth the money.   \n",
              "1                                                                                                                                                                                                                                              United American has been fantastic. We have had not one bit of trouble collecting or paying for anything at all. So, we're extremely happy. I've had a lot of illnesses so many times and when you had as much as I've had, you get canceled pretty quickly by other companies. But United have not questioned and they have been unbelievable. We are very fortunate to have gotten them. We pay quite a bit, but it's worth the cost. When I was very ill on sepsis and pancreatic stones, I was in the hospital for 15 days and they were no questions asked. In the last few years, I've had treatments for my breast cancer and there were no questions about that either.   \n",
              "2                                                                                                                                                                                                                                                                              We've had very good luck with United American. We got it in 2001 and we have used it. My husband had open heart surgery quite a few years ago. Now, there was a discrepancy. I was just hospitalized from an accident on the farm here and we had a little problem, but it was more of the hospital. They kept saying I still owed $1,500. When we called United American, they said no, they had mailed a check. Somewhere, the check must have gotten lost, so they were going to rebill them again. But that was the only time that I had a problem. We're very satisfied with what we've got and our experience with it has been very good.   \n",
              "3                                                                                                                                                                                                                  We've had a United American Insurance policy for a long time, and the coverage has been excellent. It's like someone sweeping then someone picking up the filings with a magnet. It's very complete. We also get the mailings showing what has been paid. At one time, we had a rep, but I have never had to call customer service, because everything seemed to be always completed. Ever since we went on Medicare, we've enjoyed the service, and we've never had any reason to even contact anyone. UAI is fabulous, and I'd recommend it to anyone. It's not inexpensive, but when it comes right down to it, it's worth every penny. I just had some major surgery and I haven't seen a bill from it.   \n",
              "4  We were with Cleveland Clinic and when they stopped taking HMO, United American Insurance was there to pick up the pieces. I've had them ever since and they've always been extremely good with me. When I asked them a question, they gave me an answer. They've been fair too and I have never had anybody question me. All this time, I've had three back surgeries and two other major surgeries. I've never had them deny a claim that I had to go back for. Sometimes United American Insurance is a little more expensive than HMO. But they have the same things as an HMO. I had to have my eyes examined and they do a refractory that insurances don't pay for. A gentleman went too and he had insurance for the eyes. He gave a card and was told, “We're sorry, we don't take that anymore because they don't pay their bills.” I have never had anyone tell me they wouldn't take United American Insurance.   \n",
              "\n",
              "        Date OwnershipType  ReviewLen  AvgSentenceLen  \n",
              "0 2023-05-11        Public        729           40.50  \n",
              "1 2023-04-22        Public        655           36.39  \n",
              "2 2022-10-28        Public        623           34.61  \n",
              "3 2022-10-12        Public        683           37.94  \n",
              "4 2022-09-01        Public        891           49.50  "
            ],
            "text/html": [
              "\n",
              "  <div id=\"df-70fa6350-96bb-44f8-9b44-787b8234e9c5\">\n",
              "    <div class=\"colab-df-container\">\n",
              "      <div>\n",
              "<style scoped>\n",
              "    .dataframe tbody tr th:only-of-type {\n",
              "        vertical-align: middle;\n",
              "    }\n",
              "\n",
              "    .dataframe tbody tr th {\n",
              "        vertical-align: top;\n",
              "    }\n",
              "\n",
              "    .dataframe thead th {\n",
              "        text-align: right;\n",
              "    }\n",
              "</style>\n",
              "<table border=\"1\" class=\"dataframe\">\n",
              "  <thead>\n",
              "    <tr style=\"text-align: right;\">\n",
              "      <th></th>\n",
              "      <th>CompanyName</th>\n",
              "      <th>Review</th>\n",
              "      <th>Date</th>\n",
              "      <th>OwnershipType</th>\n",
              "      <th>ReviewLen</th>\n",
              "      <th>AvgSentenceLen</th>\n",
              "    </tr>\n",
              "  </thead>\n",
              "  <tbody>\n",
              "    <tr>\n",
              "      <th>0</th>\n",
              "      <td>united_american</td>\n",
              "      <td>I've been with United American Insurance for lots of years and I just pay my bill every month. Once a year, I get a letter that they're increasing their rates, which I would prefer they didn't, but I can understand that it has to. A lot of my friends have HMOs but I like that with my insurance, I can go to whichever doctor I want. I've not had one doctor say they don't accept this insurance. Whatever Medicare paid, United American Insurance paid the other 20%. I am pleased with the service I'm getting, where everything is covered and the choices are mine. Others have to go for a second opinion but I don't. If I feel I need to see a special doctor, I can make an appointment and go. So, the flexibility is worth the money.</td>\n",
              "      <td>2023-05-11</td>\n",
              "      <td>Public</td>\n",
              "      <td>729</td>\n",
              "      <td>40.50</td>\n",
              "    </tr>\n",
              "    <tr>\n",
              "      <th>1</th>\n",
              "      <td>united_american</td>\n",
              "      <td>United American has been fantastic. We have had not one bit of trouble collecting or paying for anything at all. So, we're extremely happy. I've had a lot of illnesses so many times and when you had as much as I've had, you get canceled pretty quickly by other companies. But United have not questioned and they have been unbelievable. We are very fortunate to have gotten them. We pay quite a bit, but it's worth the cost. When I was very ill on sepsis and pancreatic stones, I was in the hospital for 15 days and they were no questions asked. In the last few years, I've had treatments for my breast cancer and there were no questions about that either.</td>\n",
              "      <td>2023-04-22</td>\n",
              "      <td>Public</td>\n",
              "      <td>655</td>\n",
              "      <td>36.39</td>\n",
              "    </tr>\n",
              "    <tr>\n",
              "      <th>2</th>\n",
              "      <td>united_american</td>\n",
              "      <td>We've had very good luck with United American. We got it in 2001 and we have used it. My husband had open heart surgery quite a few years ago. Now, there was a discrepancy. I was just hospitalized from an accident on the farm here and we had a little problem, but it was more of the hospital. They kept saying I still owed $1,500. When we called United American, they said no, they had mailed a check. Somewhere, the check must have gotten lost, so they were going to rebill them again. But that was the only time that I had a problem. We're very satisfied with what we've got and our experience with it has been very good.</td>\n",
              "      <td>2022-10-28</td>\n",
              "      <td>Public</td>\n",
              "      <td>623</td>\n",
              "      <td>34.61</td>\n",
              "    </tr>\n",
              "    <tr>\n",
              "      <th>3</th>\n",
              "      <td>united_american</td>\n",
              "      <td>We've had a United American Insurance policy for a long time, and the coverage has been excellent. It's like someone sweeping then someone picking up the filings with a magnet. It's very complete. We also get the mailings showing what has been paid. At one time, we had a rep, but I have never had to call customer service, because everything seemed to be always completed. Ever since we went on Medicare, we've enjoyed the service, and we've never had any reason to even contact anyone. UAI is fabulous, and I'd recommend it to anyone. It's not inexpensive, but when it comes right down to it, it's worth every penny. I just had some major surgery and I haven't seen a bill from it.</td>\n",
              "      <td>2022-10-12</td>\n",
              "      <td>Public</td>\n",
              "      <td>683</td>\n",
              "      <td>37.94</td>\n",
              "    </tr>\n",
              "    <tr>\n",
              "      <th>4</th>\n",
              "      <td>united_american</td>\n",
              "      <td>We were with Cleveland Clinic and when they stopped taking HMO, United American Insurance was there to pick up the pieces. I've had them ever since and they've always been extremely good with me. When I asked them a question, they gave me an answer. They've been fair too and I have never had anybody question me. All this time, I've had three back surgeries and two other major surgeries. I've never had them deny a claim that I had to go back for. Sometimes United American Insurance is a little more expensive than HMO. But they have the same things as an HMO. I had to have my eyes examined and they do a refractory that insurances don't pay for. A gentleman went too and he had insurance for the eyes. He gave a card and was told, “We're sorry, we don't take that anymore because they don't pay their bills.” I have never had anyone tell me they wouldn't take United American Insurance.</td>\n",
              "      <td>2022-09-01</td>\n",
              "      <td>Public</td>\n",
              "      <td>891</td>\n",
              "      <td>49.50</td>\n",
              "    </tr>\n",
              "  </tbody>\n",
              "</table>\n",
              "</div>\n",
              "      <button class=\"colab-df-convert\" onclick=\"convertToInteractive('df-70fa6350-96bb-44f8-9b44-787b8234e9c5')\"\n",
              "              title=\"Convert this dataframe to an interactive table.\"\n",
              "              style=\"display:none;\">\n",
              "        \n",
              "  <svg xmlns=\"http://www.w3.org/2000/svg\" height=\"24px\"viewBox=\"0 0 24 24\"\n",
              "       width=\"24px\">\n",
              "    <path d=\"M0 0h24v24H0V0z\" fill=\"none\"/>\n",
              "    <path d=\"M18.56 5.44l.94 2.06.94-2.06 2.06-.94-2.06-.94-.94-2.06-.94 2.06-2.06.94zm-11 1L8.5 8.5l.94-2.06 2.06-.94-2.06-.94L8.5 2.5l-.94 2.06-2.06.94zm10 10l.94 2.06.94-2.06 2.06-.94-2.06-.94-.94-2.06-.94 2.06-2.06.94z\"/><path d=\"M17.41 7.96l-1.37-1.37c-.4-.4-.92-.59-1.43-.59-.52 0-1.04.2-1.43.59L10.3 9.45l-7.72 7.72c-.78.78-.78 2.05 0 2.83L4 21.41c.39.39.9.59 1.41.59.51 0 1.02-.2 1.41-.59l7.78-7.78 2.81-2.81c.8-.78.8-2.07 0-2.86zM5.41 20L4 18.59l7.72-7.72 1.47 1.35L5.41 20z\"/>\n",
              "  </svg>\n",
              "      </button>\n",
              "      \n",
              "  <style>\n",
              "    .colab-df-container {\n",
              "      display:flex;\n",
              "      flex-wrap:wrap;\n",
              "      gap: 12px;\n",
              "    }\n",
              "\n",
              "    .colab-df-convert {\n",
              "      background-color: #E8F0FE;\n",
              "      border: none;\n",
              "      border-radius: 50%;\n",
              "      cursor: pointer;\n",
              "      display: none;\n",
              "      fill: #1967D2;\n",
              "      height: 32px;\n",
              "      padding: 0 0 0 0;\n",
              "      width: 32px;\n",
              "    }\n",
              "\n",
              "    .colab-df-convert:hover {\n",
              "      background-color: #E2EBFA;\n",
              "      box-shadow: 0px 1px 2px rgba(60, 64, 67, 0.3), 0px 1px 3px 1px rgba(60, 64, 67, 0.15);\n",
              "      fill: #174EA6;\n",
              "    }\n",
              "\n",
              "    [theme=dark] .colab-df-convert {\n",
              "      background-color: #3B4455;\n",
              "      fill: #D2E3FC;\n",
              "    }\n",
              "\n",
              "    [theme=dark] .colab-df-convert:hover {\n",
              "      background-color: #434B5C;\n",
              "      box-shadow: 0px 1px 3px 1px rgba(0, 0, 0, 0.15);\n",
              "      filter: drop-shadow(0px 1px 2px rgba(0, 0, 0, 0.3));\n",
              "      fill: #FFFFFF;\n",
              "    }\n",
              "  </style>\n",
              "\n",
              "      <script>\n",
              "        const buttonEl =\n",
              "          document.querySelector('#df-70fa6350-96bb-44f8-9b44-787b8234e9c5 button.colab-df-convert');\n",
              "        buttonEl.style.display =\n",
              "          google.colab.kernel.accessAllowed ? 'block' : 'none';\n",
              "\n",
              "        async function convertToInteractive(key) {\n",
              "          const element = document.querySelector('#df-70fa6350-96bb-44f8-9b44-787b8234e9c5');\n",
              "          const dataTable =\n",
              "            await google.colab.kernel.invokeFunction('convertToInteractive',\n",
              "                                                     [key], {});\n",
              "          if (!dataTable) return;\n",
              "\n",
              "          const docLinkHtml = 'Like what you see? Visit the ' +\n",
              "            '<a target=\"_blank\" href=https://colab.research.google.com/notebooks/data_table.ipynb>data table notebook</a>'\n",
              "            + ' to learn more about interactive tables.';\n",
              "          element.innerHTML = '';\n",
              "          dataTable['output_type'] = 'display_data';\n",
              "          await google.colab.output.renderOutput(dataTable, element);\n",
              "          const docLink = document.createElement('div');\n",
              "          docLink.innerHTML = docLinkHtml;\n",
              "          element.appendChild(docLink);\n",
              "        }\n",
              "      </script>\n",
              "    </div>\n",
              "  </div>\n",
              "  "
            ]
          },
          "metadata": {},
          "execution_count": 48
        }
      ]
    },
    {
      "cell_type": "markdown",
      "source": [
        "## Average Sentence Length"
      ],
      "metadata": {
        "id": "c576AfQQvKzu"
      }
    },
    {
      "cell_type": "markdown",
      "source": [
        "One other metric that might be of interest is how long the sentences on average per review. Perhaps longer sentences belong to more subjective reviews."
      ],
      "metadata": {
        "id": "quDT_T2vqgVS"
      }
    },
    {
      "cell_type": "code",
      "source": [
        "# add sentence length as column\n",
        "punc_count = reviews_df_clean.iloc[i, 1].count('.')+reviews_df_clean.iloc[i, 1].count('?')+reviews_df_clean.iloc[i, 1].count('!')\n",
        "avg_sentence_len = []\n",
        "\n",
        "for i in range(len(reviews_df_clean)):\n",
        "  if (punc_count) != 0:\n",
        "    avg_sentence_len.append(round(review_len[i]/punc_count,2))\n",
        "  else:\n",
        "    avg_sentence_len.append()\n",
        "\n",
        "reviews_df_clean['AvgSentenceLen'] = avg_sentence_len\n",
        "\n",
        "reviews_df_clean.info()"
      ],
      "metadata": {
        "colab": {
          "base_uri": "https://localhost:8080/"
        },
        "id": "ZggNut79vQ6t",
        "outputId": "9e2913e3-40b6-4f81-f8c7-f2908bbdf58f"
      },
      "execution_count": null,
      "outputs": [
        {
          "output_type": "stream",
          "name": "stdout",
          "text": [
            "<class 'pandas.core.frame.DataFrame'>\n",
            "Int64Index: 10766 entries, 0 to 10765\n",
            "Data columns (total 6 columns):\n",
            " #   Column          Non-Null Count  Dtype         \n",
            "---  ------          --------------  -----         \n",
            " 0   CompanyName     10766 non-null  object        \n",
            " 1   Review          10766 non-null  object        \n",
            " 2   Date            10766 non-null  datetime64[ns]\n",
            " 3   OwnershipType   10766 non-null  object        \n",
            " 4   ReviewLen       10766 non-null  int64         \n",
            " 5   AvgSentenceLen  10766 non-null  float64       \n",
            "dtypes: datetime64[ns](1), float64(1), int64(1), object(3)\n",
            "memory usage: 588.8+ KB\n"
          ]
        }
      ]
    },
    {
      "cell_type": "code",
      "source": [
        "#preview data with new column\n",
        "reviews_df_clean.head()"
      ],
      "metadata": {
        "colab": {
          "base_uri": "https://localhost:8080/",
          "height": 1000
        },
        "id": "vnf4lzo2wBpm",
        "outputId": "202ac331-3de9-4e7b-da72-106e88a45443"
      },
      "execution_count": null,
      "outputs": [
        {
          "output_type": "execute_result",
          "data": {
            "text/plain": [
              "       CompanyName  \\\n",
              "0  united_american   \n",
              "1  united_american   \n",
              "2  united_american   \n",
              "3  united_american   \n",
              "4  united_american   \n",
              "\n",
              "                                                                                                                                                                                                                                                                                                                                                                                                                                                                                                                                                                                                                                                                                                                                                                                                                                                                                                                        Review  \\\n",
              "0                                                                                                                                                                    I've been with United American Insurance for lots of years and I just pay my bill every month. Once a year, I get a letter that they're increasing their rates, which I would prefer they didn't, but I can understand that it has to. A lot of my friends have HMOs but I like that with my insurance, I can go to whichever doctor I want. I've not had one doctor say they don't accept this insurance. Whatever Medicare paid, United American Insurance paid the other 20%. I am pleased with the service I'm getting, where everything is covered and the choices are mine. Others have to go for a second opinion but I don't. If I feel I need to see a special doctor, I can make an appointment and go. So, the flexibility is worth the money.   \n",
              "1                                                                                                                                                                                                                                              United American has been fantastic. We have had not one bit of trouble collecting or paying for anything at all. So, we're extremely happy. I've had a lot of illnesses so many times and when you had as much as I've had, you get canceled pretty quickly by other companies. But United have not questioned and they have been unbelievable. We are very fortunate to have gotten them. We pay quite a bit, but it's worth the cost. When I was very ill on sepsis and pancreatic stones, I was in the hospital for 15 days and they were no questions asked. In the last few years, I've had treatments for my breast cancer and there were no questions about that either.   \n",
              "2                                                                                                                                                                                                                                                                              We've had very good luck with United American. We got it in 2001 and we have used it. My husband had open heart surgery quite a few years ago. Now, there was a discrepancy. I was just hospitalized from an accident on the farm here and we had a little problem, but it was more of the hospital. They kept saying I still owed $1,500. When we called United American, they said no, they had mailed a check. Somewhere, the check must have gotten lost, so they were going to rebill them again. But that was the only time that I had a problem. We're very satisfied with what we've got and our experience with it has been very good.   \n",
              "3                                                                                                                                                                                                                  We've had a United American Insurance policy for a long time, and the coverage has been excellent. It's like someone sweeping then someone picking up the filings with a magnet. It's very complete. We also get the mailings showing what has been paid. At one time, we had a rep, but I have never had to call customer service, because everything seemed to be always completed. Ever since we went on Medicare, we've enjoyed the service, and we've never had any reason to even contact anyone. UAI is fabulous, and I'd recommend it to anyone. It's not inexpensive, but when it comes right down to it, it's worth every penny. I just had some major surgery and I haven't seen a bill from it.   \n",
              "4  We were with Cleveland Clinic and when they stopped taking HMO, United American Insurance was there to pick up the pieces. I've had them ever since and they've always been extremely good with me. When I asked them a question, they gave me an answer. They've been fair too and I have never had anybody question me. All this time, I've had three back surgeries and two other major surgeries. I've never had them deny a claim that I had to go back for. Sometimes United American Insurance is a little more expensive than HMO. But they have the same things as an HMO. I had to have my eyes examined and they do a refractory that insurances don't pay for. A gentleman went too and he had insurance for the eyes. He gave a card and was told, “We're sorry, we don't take that anymore because they don't pay their bills.” I have never had anyone tell me they wouldn't take United American Insurance.   \n",
              "\n",
              "        Date OwnershipType  ReviewLen  AvgSentenceLen  \n",
              "0 2023-05-11        Public        729           40.50  \n",
              "1 2023-04-22        Public        655           36.39  \n",
              "2 2022-10-28        Public        623           34.61  \n",
              "3 2022-10-12        Public        683           37.94  \n",
              "4 2022-09-01        Public        891           49.50  "
            ],
            "text/html": [
              "\n",
              "  <div id=\"df-f9697ced-1a22-4915-9ad6-cdf013be578a\">\n",
              "    <div class=\"colab-df-container\">\n",
              "      <div>\n",
              "<style scoped>\n",
              "    .dataframe tbody tr th:only-of-type {\n",
              "        vertical-align: middle;\n",
              "    }\n",
              "\n",
              "    .dataframe tbody tr th {\n",
              "        vertical-align: top;\n",
              "    }\n",
              "\n",
              "    .dataframe thead th {\n",
              "        text-align: right;\n",
              "    }\n",
              "</style>\n",
              "<table border=\"1\" class=\"dataframe\">\n",
              "  <thead>\n",
              "    <tr style=\"text-align: right;\">\n",
              "      <th></th>\n",
              "      <th>CompanyName</th>\n",
              "      <th>Review</th>\n",
              "      <th>Date</th>\n",
              "      <th>OwnershipType</th>\n",
              "      <th>ReviewLen</th>\n",
              "      <th>AvgSentenceLen</th>\n",
              "    </tr>\n",
              "  </thead>\n",
              "  <tbody>\n",
              "    <tr>\n",
              "      <th>0</th>\n",
              "      <td>united_american</td>\n",
              "      <td>I've been with United American Insurance for lots of years and I just pay my bill every month. Once a year, I get a letter that they're increasing their rates, which I would prefer they didn't, but I can understand that it has to. A lot of my friends have HMOs but I like that with my insurance, I can go to whichever doctor I want. I've not had one doctor say they don't accept this insurance. Whatever Medicare paid, United American Insurance paid the other 20%. I am pleased with the service I'm getting, where everything is covered and the choices are mine. Others have to go for a second opinion but I don't. If I feel I need to see a special doctor, I can make an appointment and go. So, the flexibility is worth the money.</td>\n",
              "      <td>2023-05-11</td>\n",
              "      <td>Public</td>\n",
              "      <td>729</td>\n",
              "      <td>40.50</td>\n",
              "    </tr>\n",
              "    <tr>\n",
              "      <th>1</th>\n",
              "      <td>united_american</td>\n",
              "      <td>United American has been fantastic. We have had not one bit of trouble collecting or paying for anything at all. So, we're extremely happy. I've had a lot of illnesses so many times and when you had as much as I've had, you get canceled pretty quickly by other companies. But United have not questioned and they have been unbelievable. We are very fortunate to have gotten them. We pay quite a bit, but it's worth the cost. When I was very ill on sepsis and pancreatic stones, I was in the hospital for 15 days and they were no questions asked. In the last few years, I've had treatments for my breast cancer and there were no questions about that either.</td>\n",
              "      <td>2023-04-22</td>\n",
              "      <td>Public</td>\n",
              "      <td>655</td>\n",
              "      <td>36.39</td>\n",
              "    </tr>\n",
              "    <tr>\n",
              "      <th>2</th>\n",
              "      <td>united_american</td>\n",
              "      <td>We've had very good luck with United American. We got it in 2001 and we have used it. My husband had open heart surgery quite a few years ago. Now, there was a discrepancy. I was just hospitalized from an accident on the farm here and we had a little problem, but it was more of the hospital. They kept saying I still owed $1,500. When we called United American, they said no, they had mailed a check. Somewhere, the check must have gotten lost, so they were going to rebill them again. But that was the only time that I had a problem. We're very satisfied with what we've got and our experience with it has been very good.</td>\n",
              "      <td>2022-10-28</td>\n",
              "      <td>Public</td>\n",
              "      <td>623</td>\n",
              "      <td>34.61</td>\n",
              "    </tr>\n",
              "    <tr>\n",
              "      <th>3</th>\n",
              "      <td>united_american</td>\n",
              "      <td>We've had a United American Insurance policy for a long time, and the coverage has been excellent. It's like someone sweeping then someone picking up the filings with a magnet. It's very complete. We also get the mailings showing what has been paid. At one time, we had a rep, but I have never had to call customer service, because everything seemed to be always completed. Ever since we went on Medicare, we've enjoyed the service, and we've never had any reason to even contact anyone. UAI is fabulous, and I'd recommend it to anyone. It's not inexpensive, but when it comes right down to it, it's worth every penny. I just had some major surgery and I haven't seen a bill from it.</td>\n",
              "      <td>2022-10-12</td>\n",
              "      <td>Public</td>\n",
              "      <td>683</td>\n",
              "      <td>37.94</td>\n",
              "    </tr>\n",
              "    <tr>\n",
              "      <th>4</th>\n",
              "      <td>united_american</td>\n",
              "      <td>We were with Cleveland Clinic and when they stopped taking HMO, United American Insurance was there to pick up the pieces. I've had them ever since and they've always been extremely good with me. When I asked them a question, they gave me an answer. They've been fair too and I have never had anybody question me. All this time, I've had three back surgeries and two other major surgeries. I've never had them deny a claim that I had to go back for. Sometimes United American Insurance is a little more expensive than HMO. But they have the same things as an HMO. I had to have my eyes examined and they do a refractory that insurances don't pay for. A gentleman went too and he had insurance for the eyes. He gave a card and was told, “We're sorry, we don't take that anymore because they don't pay their bills.” I have never had anyone tell me they wouldn't take United American Insurance.</td>\n",
              "      <td>2022-09-01</td>\n",
              "      <td>Public</td>\n",
              "      <td>891</td>\n",
              "      <td>49.50</td>\n",
              "    </tr>\n",
              "  </tbody>\n",
              "</table>\n",
              "</div>\n",
              "      <button class=\"colab-df-convert\" onclick=\"convertToInteractive('df-f9697ced-1a22-4915-9ad6-cdf013be578a')\"\n",
              "              title=\"Convert this dataframe to an interactive table.\"\n",
              "              style=\"display:none;\">\n",
              "        \n",
              "  <svg xmlns=\"http://www.w3.org/2000/svg\" height=\"24px\"viewBox=\"0 0 24 24\"\n",
              "       width=\"24px\">\n",
              "    <path d=\"M0 0h24v24H0V0z\" fill=\"none\"/>\n",
              "    <path d=\"M18.56 5.44l.94 2.06.94-2.06 2.06-.94-2.06-.94-.94-2.06-.94 2.06-2.06.94zm-11 1L8.5 8.5l.94-2.06 2.06-.94-2.06-.94L8.5 2.5l-.94 2.06-2.06.94zm10 10l.94 2.06.94-2.06 2.06-.94-2.06-.94-.94-2.06-.94 2.06-2.06.94z\"/><path d=\"M17.41 7.96l-1.37-1.37c-.4-.4-.92-.59-1.43-.59-.52 0-1.04.2-1.43.59L10.3 9.45l-7.72 7.72c-.78.78-.78 2.05 0 2.83L4 21.41c.39.39.9.59 1.41.59.51 0 1.02-.2 1.41-.59l7.78-7.78 2.81-2.81c.8-.78.8-2.07 0-2.86zM5.41 20L4 18.59l7.72-7.72 1.47 1.35L5.41 20z\"/>\n",
              "  </svg>\n",
              "      </button>\n",
              "      \n",
              "  <style>\n",
              "    .colab-df-container {\n",
              "      display:flex;\n",
              "      flex-wrap:wrap;\n",
              "      gap: 12px;\n",
              "    }\n",
              "\n",
              "    .colab-df-convert {\n",
              "      background-color: #E8F0FE;\n",
              "      border: none;\n",
              "      border-radius: 50%;\n",
              "      cursor: pointer;\n",
              "      display: none;\n",
              "      fill: #1967D2;\n",
              "      height: 32px;\n",
              "      padding: 0 0 0 0;\n",
              "      width: 32px;\n",
              "    }\n",
              "\n",
              "    .colab-df-convert:hover {\n",
              "      background-color: #E2EBFA;\n",
              "      box-shadow: 0px 1px 2px rgba(60, 64, 67, 0.3), 0px 1px 3px 1px rgba(60, 64, 67, 0.15);\n",
              "      fill: #174EA6;\n",
              "    }\n",
              "\n",
              "    [theme=dark] .colab-df-convert {\n",
              "      background-color: #3B4455;\n",
              "      fill: #D2E3FC;\n",
              "    }\n",
              "\n",
              "    [theme=dark] .colab-df-convert:hover {\n",
              "      background-color: #434B5C;\n",
              "      box-shadow: 0px 1px 3px 1px rgba(0, 0, 0, 0.15);\n",
              "      filter: drop-shadow(0px 1px 2px rgba(0, 0, 0, 0.3));\n",
              "      fill: #FFFFFF;\n",
              "    }\n",
              "  </style>\n",
              "\n",
              "      <script>\n",
              "        const buttonEl =\n",
              "          document.querySelector('#df-f9697ced-1a22-4915-9ad6-cdf013be578a button.colab-df-convert');\n",
              "        buttonEl.style.display =\n",
              "          google.colab.kernel.accessAllowed ? 'block' : 'none';\n",
              "\n",
              "        async function convertToInteractive(key) {\n",
              "          const element = document.querySelector('#df-f9697ced-1a22-4915-9ad6-cdf013be578a');\n",
              "          const dataTable =\n",
              "            await google.colab.kernel.invokeFunction('convertToInteractive',\n",
              "                                                     [key], {});\n",
              "          if (!dataTable) return;\n",
              "\n",
              "          const docLinkHtml = 'Like what you see? Visit the ' +\n",
              "            '<a target=\"_blank\" href=https://colab.research.google.com/notebooks/data_table.ipynb>data table notebook</a>'\n",
              "            + ' to learn more about interactive tables.';\n",
              "          element.innerHTML = '';\n",
              "          dataTable['output_type'] = 'display_data';\n",
              "          await google.colab.output.renderOutput(dataTable, element);\n",
              "          const docLink = document.createElement('div');\n",
              "          docLink.innerHTML = docLinkHtml;\n",
              "          element.appendChild(docLink);\n",
              "        }\n",
              "      </script>\n",
              "    </div>\n",
              "  </div>\n",
              "  "
            ]
          },
          "metadata": {},
          "execution_count": 50
        }
      ]
    },
    {
      "cell_type": "markdown",
      "source": [
        "# Exporting"
      ],
      "metadata": {
        "id": "bjcXBYpdlJv1"
      }
    },
    {
      "cell_type": "code",
      "source": [
        "#create csv\n",
        "reviews_df_clean.to_csv('reviews.csv', index=False)"
      ],
      "metadata": {
        "id": "y3c8DV7oeiw7"
      },
      "execution_count": null,
      "outputs": []
    },
    {
      "cell_type": "code",
      "source": [
        "#download csv\n",
        "files.download('reviews.csv')"
      ],
      "metadata": {
        "id": "sMVwHfKrCQ22"
      },
      "execution_count": null,
      "outputs": []
    }
  ]
}